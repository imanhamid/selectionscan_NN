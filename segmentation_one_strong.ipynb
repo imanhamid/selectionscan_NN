{
  "nbformat": 4,
  "nbformat_minor": 0,
  "metadata": {
    "jupytext": {
      "split_at_heading": true
    },
    "kernelspec": {
      "display_name": "Python 3",
      "language": "python",
      "name": "python3"
    },
    "language_info": {
      "codemirror_mode": {
        "name": "ipython",
        "version": 3
      },
      "file_extension": ".py",
      "mimetype": "text/x-python",
      "name": "python",
      "nbconvert_exporter": "python",
      "pygments_lexer": "ipython3",
      "version": "3.7.7"
    },
    "toc": {
      "base_numbering": 1,
      "nav_menu": {},
      "number_sections": false,
      "sideBar": true,
      "skip_h1_title": true,
      "title_cell": "Table of Contents",
      "title_sidebar": "Contents",
      "toc_cell": false,
      "toc_position": {},
      "toc_section_display": true,
      "toc_window_display": false
    },
    "colab": {
      "name": "segmentation_one-strong.ipynb",
      "provenance": [],
      "include_colab_link": true
    },
    "accelerator": "GPU"
  },
  "cells": [
    {
      "cell_type": "markdown",
      "metadata": {
        "id": "view-in-github",
        "colab_type": "text"
      },
      "source": [
        "<a href=\"https://colab.research.google.com/github/imanhamid/selectionscan_NN/blob/master/segmentation_one_strong.ipynb\" target=\"_parent\"><img src=\"https://colab.research.google.com/assets/colab-badge.svg\" alt=\"Open In Colab\"/></a>"
      ]
    },
    {
      "cell_type": "code",
      "metadata": {
        "id": "Un4e7fuYRFiA",
        "outputId": "5334efc9-623c-4b20-c63c-3c6713e1ff58",
        "colab": {
          "base_uri": "https://localhost:8080/",
          "height": 221
        }
      },
      "source": [
        "#hide\n",
        "!pip install -Uqq fastbook\n",
        "import fastbook\n",
        "fastbook.setup_book()"
      ],
      "execution_count": 1,
      "outputs": [
        {
          "output_type": "stream",
          "text": [
            "\u001b[K     |████████████████████████████████| 727kB 4.6MB/s \n",
            "\u001b[K     |████████████████████████████████| 1.0MB 20.0MB/s \n",
            "\u001b[K     |████████████████████████████████| 51kB 9.4MB/s \n",
            "\u001b[K     |████████████████████████████████| 51kB 7.3MB/s \n",
            "\u001b[K     |████████████████████████████████| 194kB 29.0MB/s \n",
            "\u001b[K     |████████████████████████████████| 51kB 8.7MB/s \n",
            "\u001b[K     |████████████████████████████████| 92kB 9.0MB/s \n",
            "\u001b[K     |████████████████████████████████| 40kB 6.8MB/s \n",
            "\u001b[K     |████████████████████████████████| 51kB 9.8MB/s \n",
            "\u001b[K     |████████████████████████████████| 61kB 9.8MB/s \n",
            "\u001b[K     |████████████████████████████████| 2.6MB 41.5MB/s \n",
            "\u001b[?25hMounted at /content/gdrive\n"
          ],
          "name": "stdout"
        }
      ]
    },
    {
      "cell_type": "code",
      "metadata": {
        "id": "2mzgJDq9RFiD"
      },
      "source": [
        "#hide\n",
        "from fastbook import *"
      ],
      "execution_count": 2,
      "outputs": []
    },
    {
      "cell_type": "code",
      "metadata": {
        "id": "omULOaDsRnnh"
      },
      "source": [
        "from fastai.vision.all import *"
      ],
      "execution_count": 3,
      "outputs": []
    },
    {
      "cell_type": "code",
      "metadata": {
        "id": "lwLdaloxRrWr",
        "outputId": "03d97966-0f9c-46c4-f3c9-9d6341666429",
        "colab": {
          "base_uri": "https://localhost:8080/",
          "height": 35
        }
      },
      "source": [
        "import fastai; fastai.__version__"
      ],
      "execution_count": 4,
      "outputs": [
        {
          "output_type": "execute_result",
          "data": {
            "application/vnd.google.colaboratory.intrinsic+json": {
              "type": "string"
            },
            "text/plain": [
              "'2.0.16'"
            ]
          },
          "metadata": {
            "tags": []
          },
          "execution_count": 4
        }
      ]
    },
    {
      "cell_type": "code",
      "metadata": {
        "id": "-4I_-CCZR2uX",
        "outputId": "0d34b9b3-d72f-4d4a-d3e1-99635ef23776",
        "colab": {
          "base_uri": "https://localhost:8080/",
          "height": 34
        }
      },
      "source": [
        "from google.colab import drive\n",
        "drive.mount('/content/gdrive', force_remount=True)\n",
        "root_dir = \"/content/gdrive/My Drive/\"\n",
        "base_dir = root_dir + 'fastai-v3/'"
      ],
      "execution_count": 5,
      "outputs": [
        {
          "output_type": "stream",
          "text": [
            "Mounted at /content/gdrive\n"
          ],
          "name": "stdout"
        }
      ]
    },
    {
      "cell_type": "code",
      "metadata": {
        "id": "R0qYHsTrRyZ3"
      },
      "source": [
        "path = Path(base_dir + 'data/segmentation/one-strong/')"
      ],
      "execution_count": 6,
      "outputs": []
    },
    {
      "cell_type": "code",
      "metadata": {
        "id": "r-GnvQ3xR6i3"
      },
      "source": [
        "path_lbl = path/'labels'\n",
        "path_img = path/'images'\n",
        "fnames = get_image_files(path_img)\n",
        "lbl_names = get_image_files(path_lbl)"
      ],
      "execution_count": 7,
      "outputs": []
    },
    {
      "cell_type": "code",
      "metadata": {
        "id": "6-D1G2xZR_YG",
        "outputId": "a78cf620-65e8-40c2-9320-095717ccdd0a",
        "colab": {
          "base_uri": "https://localhost:8080/",
          "height": 217
        }
      },
      "source": [
        "img_f = fnames[100]\n",
        "img = Image.open(img_f)\n",
        "img"
      ],
      "execution_count": 8,
      "outputs": [
        {
          "output_type": "execute_result",
          "data": {
            "image/png": "[encoded data removed]",
            "text/plain": [
              "<PIL.PngImagePlugin.PngImageFile image mode=P size=200x200 at 0x7F333B0FB518>"
            ]
          },
          "metadata": {
            "tags": []
          },
          "execution_count": 8
        }
      ]
    },
    {
      "cell_type": "code",
      "metadata": {
        "id": "IJix37XwSW_-",
        "outputId": "60fbcf2c-36f2-45cf-a883-e66e8311074a",
        "colab": {
          "base_uri": "https://localhost:8080/",
          "height": 34
        }
      },
      "source": [
        "def get_y_fn(fn): return path/\"labels\"/f\"{fn.stem}_P{fn.suffix}\"\n",
        "\n",
        "print(get_y_fn(img_f))"
      ],
      "execution_count": 9,
      "outputs": [
        {
          "output_type": "stream",
          "text": [
            "/content/gdrive/My Drive/fastai-v3/data/segmentation/one-strong/labels/one-strong_s-0.075_pos-18630852_seed-591_ancestry_P.png\n"
          ],
          "name": "stdout"
        }
      ]
    },
    {
      "cell_type": "code",
      "metadata": {
        "id": "tG9s84o2WtSd"
      },
      "source": [
        "??IntToFloatTensor"
      ],
      "execution_count": null,
      "outputs": []
    },
    {
      "cell_type": "code",
      "metadata": {
        "id": "u-ImNSoCSdsz",
        "outputId": "edc1f1e8-9686-41ac-ce70-4c01f01c4f04",
        "colab": {
          "base_uri": "https://localhost:8080/",
          "height": 320
        }
      },
      "source": [
        "mask = OpenMask(get_y_fn(img_f))\n",
        "mask.show(alpha=1)"
      ],
      "execution_count": 10,
      "outputs": [
        {
          "output_type": "execute_result",
          "data": {
            "text/plain": [
              "<matplotlib.axes._subplots.AxesSubplot at 0x7f32c9c22390>"
            ]
          },
          "metadata": {
            "tags": []
          },
          "execution_count": 10
        },
        {
          "output_type": "display_data",
          "data": {
            "image/png": "[encoded data removed]",
            "text/plain": [
              "<Figure size 360x360 with 1 Axes>"
            ]
          },
          "metadata": {
            "tags": [],
            "needs_background": "light"
          }
        }
      ]
    },
    {
      "cell_type": "code",
      "metadata": {
        "id": "UO0IQZj1TD0V",
        "outputId": "9a03d992-5dd6-4a27-c484-498ad65de463",
        "colab": {
          "base_uri": "https://localhost:8080/",
          "height": 34
        }
      },
      "source": [
        "torch.set_printoptions(profile=\"full\")\n",
        "print(mask.getcolors())"
      ],
      "execution_count": 11,
      "outputs": [
        {
          "output_type": "stream",
          "text": [
            "[(39800, 0), (200, 255)]\n"
          ],
          "name": "stdout"
        }
      ]
    },
    {
      "cell_type": "code",
      "metadata": {
        "id": "t7MI6HQiTt08"
      },
      "source": [
        "codes = np.array(['neutral', 'sweep'], dtype=str)"
      ],
      "execution_count": 12,
      "outputs": []
    },
    {
      "cell_type": "code",
      "metadata": {
        "id": "0dRY0B2tYCql"
      },
      "source": [
        "def MaskBlock(codes=None):\n",
        "    \"A `TransformBlock` for segmentation masks, potentially with `codes`\"\n",
        "    return TransformBlock(type_tfms=PILMask.create, item_tfms=AddMaskCodes(codes=codes), \n",
        "                          batch_tfms=IntToFloatTensor(div_mask=255))"
      ],
      "execution_count": 13,
      "outputs": []
    },
    {
      "cell_type": "code",
      "metadata": {
        "id": "vZf-F4imT2Y8"
      },
      "source": [
        "dbs = DataBlock(blocks=(ImageBlock, MaskBlock(codes,)),\n",
        "                   get_items = get_image_files,\n",
        "                   get_y = get_y_fn,\n",
        "                   splitter=RandomSplitter(valid_pct=0.2, seed=42))"
      ],
      "execution_count": 14,
      "outputs": []
    },
    {
      "cell_type": "code",
      "metadata": {
        "id": "sT6ltDNYUwvc"
      },
      "source": [
        "dls = dbs.dataloaders(path_img, path=path, bs=8)"
      ],
      "execution_count": 15,
      "outputs": []
    },
    {
      "cell_type": "code",
      "metadata": {
        "id": "yzHsAO7wU9ae",
        "outputId": "baa12876-05e1-4df7-c2a0-99667080837b",
        "colab": {
          "base_uri": "https://localhost:8080/",
          "height": 357
        }
      },
      "source": [
        "dls.show_batch(max_n=6)"
      ],
      "execution_count": 16,
      "outputs": [
        {
          "output_type": "display_data",
          "data": {
            "image/png": "[encoded data removed]",
            "text/plain": [
              "<Figure size 648x432 with 6 Axes>"
            ]
          },
          "metadata": {
            "tags": [],
            "needs_background": "light"
          }
        }
      ]
    },
    {
      "cell_type": "code",
      "metadata": {
        "id": "32-1cLr2diib"
      },
      "source": [
        "from sklearn.metrics import auc\n",
        "\n",
        "def mean_auc(pred, targ, axis = 1):\n",
        "  targ = targ.squeeze(1)\n",
        "  pred = pred.argmax(dim=axis)\n",
        "  targs = torch.where(torch.sigmoid(targ.sum(dim=1).float())>0.5, torch.sigmoid(targ.sum(dim=1).float()), tensor(0.).cuda())\n",
        "  preds = torch.where(torch.sigmoid(pred.sum(dim=1).float())>0.5, torch.sigmoid(pred.sum(dim=1).float()), tensor(0.).cuda())\n",
        "\n",
        "  \n",
        "  positions = torch.arange(0, 200).cuda()\n",
        "  positions = positions.view(1, 200, 1).cuda()\n",
        "  distances = torch.transpose(torch.sub(torch.where(targs==1.)[1], positions).abs().squeeze(), 0, 1)\n",
        "\n",
        "  window_means = torch.Tensor([[preds[y][torch.where(distances[y]<= i)].mean() for i in range(100)] for y in range(len(preds))]).mean(0)\n",
        "  \n",
        "  batch_auc = auc(torch.arange(0, 100), window_means)\n",
        "\n",
        "  return batch_auc"
      ],
      "execution_count": 506,
      "outputs": []
    },
    {
      "cell_type": "code",
      "metadata": {
        "id": "dHU9M1wSisAD"
      },
      "source": [
        "def mean_pos0(pred, targ, axis = 1):\n",
        "  targ = targ.squeeze(1)\n",
        "  pred = pred.argmax(dim=axis)\n",
        "  targs = torch.where(torch.sigmoid(targ.sum(dim=1).float())>0.5, torch.sigmoid(targ.sum(dim=1).float()), tensor(0.).cuda())\n",
        "  preds = torch.where(torch.sigmoid(pred.sum(dim=1).float())>0.5, torch.sigmoid(pred.sum(dim=1).float()), tensor(0.).cuda())\n",
        "\n",
        "  \n",
        "  positions = torch.arange(0, 200).cuda()\n",
        "  positions = positions.view(1, 200, 1).cuda()\n",
        "  distances = torch.transpose(torch.sub(torch.where(targs==1.)[1], positions).abs().squeeze(), 0, 1)\n",
        "\n",
        "  window_means = torch.Tensor([[preds[y][torch.where(distances[y]<= i)].mean() for i in range(100)] for y in range(len(preds))]).mean(0)\n",
        "\n",
        "  return window_means[0]\n",
        "\n",
        "def mean_pos10(pred, targ, axis = 1):\n",
        "  targ = targ.squeeze(1)\n",
        "  pred = pred.argmax(dim=axis)\n",
        "  targs = torch.where(torch.sigmoid(targ.sum(dim=1).float())>0.5, torch.sigmoid(targ.sum(dim=1).float()), tensor(0.).cuda())\n",
        "  preds = torch.where(torch.sigmoid(pred.sum(dim=1).float())>0.5, torch.sigmoid(pred.sum(dim=1).float()), tensor(0.).cuda())\n",
        "\n",
        "  \n",
        "  positions = torch.arange(0, 200).cuda()\n",
        "  positions = positions.view(1, 200, 1).cuda()\n",
        "  distances = torch.transpose(torch.sub(torch.where(targs==1.)[1], positions).abs().squeeze(), 0, 1)\n",
        "\n",
        "  window_means = torch.Tensor([[preds[y][torch.where(distances[y]<= i)].mean() for i in range(100)] for y in range(len(preds))]).mean(0)\n",
        "\n",
        "  return window_means[10]"
      ],
      "execution_count": 507,
      "outputs": []
    },
    {
      "cell_type": "code",
      "metadata": {
        "id": "qIgOMGeKVCqV"
      },
      "source": [
        "learn = unet_learner(dls, resnet18, loss_func=CrossEntropyLossFlat(axis=1, \n",
        "                    weight=torch.tensor([0.5,1.]).cuda()), metrics=[mean_auc, mean_pos0, mean_pos10])"
      ],
      "execution_count": 508,
      "outputs": []
    },
    {
      "cell_type": "code",
      "metadata": {
        "id": "7OAaftTKyphj",
        "outputId": "5731c6fe-4943-49a5-ec55-83d93bb40e2a",
        "colab": {
          "base_uri": "https://localhost:8080/",
          "height": 1000
        }
      },
      "source": [
        "learn.fine_tune(20, base_lr=3e-5, freeze_epochs=10,pct_start=0.9, wd=1e-2)"
      ],
      "execution_count": 509,
      "outputs": [
        {
          "output_type": "display_data",
          "data": {
            "text/html": [
              "<table border=\"1\" class=\"dataframe\">\n",
              "  <thead>\n",
              "    <tr style=\"text-align: left;\">\n",
              "      <th>epoch</th>\n",
              "      <th>train_loss</th>\n",
              "      <th>valid_loss</th>\n",
              "      <th>mean_auc</th>\n",
              "      <th>mean_pos0</th>\n",
              "      <th>mean_pos10</th>\n",
              "      <th>time</th>\n",
              "    </tr>\n",
              "  </thead>\n",
              "  <tbody>\n",
              "    <tr>\n",
              "      <td>0</td>\n",
              "      <td>0.237318</td>\n",
              "      <td>0.105883</td>\n",
              "      <td>61.337972</td>\n",
              "      <td>0.664503</td>\n",
              "      <td>0.672783</td>\n",
              "      <td>00:31</td>\n",
              "    </tr>\n",
              "    <tr>\n",
              "      <td>1</td>\n",
              "      <td>0.100722</td>\n",
              "      <td>0.074085</td>\n",
              "      <td>2.976785</td>\n",
              "      <td>0.042454</td>\n",
              "      <td>0.040287</td>\n",
              "      <td>00:30</td>\n",
              "    </tr>\n",
              "    <tr>\n",
              "      <td>2</td>\n",
              "      <td>0.063813</td>\n",
              "      <td>0.053296</td>\n",
              "      <td>0.117352</td>\n",
              "      <td>0.000000</td>\n",
              "      <td>0.000661</td>\n",
              "      <td>00:30</td>\n",
              "    </tr>\n",
              "    <tr>\n",
              "      <td>3</td>\n",
              "      <td>0.048708</td>\n",
              "      <td>0.044777</td>\n",
              "      <td>0.014536</td>\n",
              "      <td>0.000000</td>\n",
              "      <td>0.000244</td>\n",
              "      <td>00:31</td>\n",
              "    </tr>\n",
              "    <tr>\n",
              "      <td>4</td>\n",
              "      <td>0.042549</td>\n",
              "      <td>0.041231</td>\n",
              "      <td>0.000000</td>\n",
              "      <td>0.000000</td>\n",
              "      <td>0.000000</td>\n",
              "      <td>00:30</td>\n",
              "    </tr>\n",
              "    <tr>\n",
              "      <td>5</td>\n",
              "      <td>0.039144</td>\n",
              "      <td>0.038540</td>\n",
              "      <td>0.000000</td>\n",
              "      <td>0.000000</td>\n",
              "      <td>0.000000</td>\n",
              "      <td>00:30</td>\n",
              "    </tr>\n",
              "    <tr>\n",
              "      <td>6</td>\n",
              "      <td>0.036809</td>\n",
              "      <td>0.036981</td>\n",
              "      <td>0.000000</td>\n",
              "      <td>0.000000</td>\n",
              "      <td>0.000000</td>\n",
              "      <td>00:30</td>\n",
              "    </tr>\n",
              "    <tr>\n",
              "      <td>7</td>\n",
              "      <td>0.034493</td>\n",
              "      <td>0.037191</td>\n",
              "      <td>0.000000</td>\n",
              "      <td>0.000000</td>\n",
              "      <td>0.000000</td>\n",
              "      <td>00:30</td>\n",
              "    </tr>\n",
              "    <tr>\n",
              "      <td>8</td>\n",
              "      <td>0.032882</td>\n",
              "      <td>0.036544</td>\n",
              "      <td>0.008291</td>\n",
              "      <td>0.000000</td>\n",
              "      <td>0.000210</td>\n",
              "      <td>00:31</td>\n",
              "    </tr>\n",
              "    <tr>\n",
              "      <td>9</td>\n",
              "      <td>0.030847</td>\n",
              "      <td>0.039752</td>\n",
              "      <td>0.165022</td>\n",
              "      <td>0.004404</td>\n",
              "      <td>0.004045</td>\n",
              "      <td>00:30</td>\n",
              "    </tr>\n",
              "  </tbody>\n",
              "</table>"
            ],
            "text/plain": [
              "<IPython.core.display.HTML object>"
            ]
          },
          "metadata": {
            "tags": []
          }
        },
        {
          "output_type": "display_data",
          "data": {
            "text/html": [
              "<table border=\"1\" class=\"dataframe\">\n",
              "  <thead>\n",
              "    <tr style=\"text-align: left;\">\n",
              "      <th>epoch</th>\n",
              "      <th>train_loss</th>\n",
              "      <th>valid_loss</th>\n",
              "      <th>mean_auc</th>\n",
              "      <th>mean_pos0</th>\n",
              "      <th>mean_pos10</th>\n",
              "      <th>time</th>\n",
              "    </tr>\n",
              "  </thead>\n",
              "  <tbody>\n",
              "    <tr>\n",
              "      <td>0</td>\n",
              "      <td>0.027437</td>\n",
              "      <td>0.040278</td>\n",
              "      <td>0.538348</td>\n",
              "      <td>0.038556</td>\n",
              "      <td>0.012009</td>\n",
              "      <td>00:31</td>\n",
              "    </tr>\n",
              "    <tr>\n",
              "      <td>1</td>\n",
              "      <td>0.026767</td>\n",
              "      <td>0.042606</td>\n",
              "      <td>1.519432</td>\n",
              "      <td>0.092890</td>\n",
              "      <td>0.034882</td>\n",
              "      <td>00:32</td>\n",
              "    </tr>\n",
              "    <tr>\n",
              "      <td>2</td>\n",
              "      <td>0.026203</td>\n",
              "      <td>0.044346</td>\n",
              "      <td>1.828391</td>\n",
              "      <td>0.136490</td>\n",
              "      <td>0.041641</td>\n",
              "      <td>00:32</td>\n",
              "    </tr>\n",
              "    <tr>\n",
              "      <td>3</td>\n",
              "      <td>0.025650</td>\n",
              "      <td>0.045585</td>\n",
              "      <td>2.281094</td>\n",
              "      <td>0.138724</td>\n",
              "      <td>0.052326</td>\n",
              "      <td>00:32</td>\n",
              "    </tr>\n",
              "    <tr>\n",
              "      <td>4</td>\n",
              "      <td>0.024987</td>\n",
              "      <td>0.049392</td>\n",
              "      <td>2.775052</td>\n",
              "      <td>0.163496</td>\n",
              "      <td>0.064334</td>\n",
              "      <td>00:32</td>\n",
              "    </tr>\n",
              "    <tr>\n",
              "      <td>5</td>\n",
              "      <td>0.024312</td>\n",
              "      <td>0.049620</td>\n",
              "      <td>3.036840</td>\n",
              "      <td>0.204969</td>\n",
              "      <td>0.068271</td>\n",
              "      <td>00:32</td>\n",
              "    </tr>\n",
              "    <tr>\n",
              "      <td>6</td>\n",
              "      <td>0.023918</td>\n",
              "      <td>0.049437</td>\n",
              "      <td>4.596864</td>\n",
              "      <td>0.273232</td>\n",
              "      <td>0.107117</td>\n",
              "      <td>00:32</td>\n",
              "    </tr>\n",
              "    <tr>\n",
              "      <td>7</td>\n",
              "      <td>0.023382</td>\n",
              "      <td>0.059151</td>\n",
              "      <td>6.574491</td>\n",
              "      <td>0.368264</td>\n",
              "      <td>0.151964</td>\n",
              "      <td>00:32</td>\n",
              "    </tr>\n",
              "    <tr>\n",
              "      <td>8</td>\n",
              "      <td>0.022536</td>\n",
              "      <td>0.057330</td>\n",
              "      <td>6.312740</td>\n",
              "      <td>0.386691</td>\n",
              "      <td>0.144935</td>\n",
              "      <td>00:32</td>\n",
              "    </tr>\n",
              "    <tr>\n",
              "      <td>9</td>\n",
              "      <td>0.021835</td>\n",
              "      <td>0.059096</td>\n",
              "      <td>7.053799</td>\n",
              "      <td>0.404476</td>\n",
              "      <td>0.165440</td>\n",
              "      <td>00:32</td>\n",
              "    </tr>\n",
              "    <tr>\n",
              "      <td>10</td>\n",
              "      <td>0.021532</td>\n",
              "      <td>0.058075</td>\n",
              "      <td>10.005577</td>\n",
              "      <td>0.511045</td>\n",
              "      <td>0.233917</td>\n",
              "      <td>00:31</td>\n",
              "    </tr>\n",
              "    <tr>\n",
              "      <td>11</td>\n",
              "      <td>0.021247</td>\n",
              "      <td>0.069167</td>\n",
              "      <td>6.089207</td>\n",
              "      <td>0.329705</td>\n",
              "      <td>0.140105</td>\n",
              "      <td>00:32</td>\n",
              "    </tr>\n",
              "    <tr>\n",
              "      <td>12</td>\n",
              "      <td>0.020663</td>\n",
              "      <td>0.057880</td>\n",
              "      <td>11.194255</td>\n",
              "      <td>0.544432</td>\n",
              "      <td>0.261103</td>\n",
              "      <td>00:32</td>\n",
              "    </tr>\n",
              "    <tr>\n",
              "      <td>13</td>\n",
              "      <td>0.019949</td>\n",
              "      <td>0.060827</td>\n",
              "      <td>11.701449</td>\n",
              "      <td>0.580367</td>\n",
              "      <td>0.273260</td>\n",
              "      <td>00:32</td>\n",
              "    </tr>\n",
              "    <tr>\n",
              "      <td>14</td>\n",
              "      <td>0.019871</td>\n",
              "      <td>0.062829</td>\n",
              "      <td>9.171685</td>\n",
              "      <td>0.492362</td>\n",
              "      <td>0.213457</td>\n",
              "      <td>00:31</td>\n",
              "    </tr>\n",
              "    <tr>\n",
              "      <td>15</td>\n",
              "      <td>0.019666</td>\n",
              "      <td>0.065795</td>\n",
              "      <td>10.041482</td>\n",
              "      <td>0.491223</td>\n",
              "      <td>0.236120</td>\n",
              "      <td>00:31</td>\n",
              "    </tr>\n",
              "    <tr>\n",
              "      <td>16</td>\n",
              "      <td>0.018803</td>\n",
              "      <td>0.070533</td>\n",
              "      <td>10.643420</td>\n",
              "      <td>0.539271</td>\n",
              "      <td>0.246250</td>\n",
              "      <td>00:32</td>\n",
              "    </tr>\n",
              "    <tr>\n",
              "      <td>17</td>\n",
              "      <td>0.018387</td>\n",
              "      <td>0.078732</td>\n",
              "      <td>6.833363</td>\n",
              "      <td>0.353673</td>\n",
              "      <td>0.159678</td>\n",
              "      <td>00:32</td>\n",
              "    </tr>\n",
              "    <tr>\n",
              "      <td>18</td>\n",
              "      <td>0.017764</td>\n",
              "      <td>0.087725</td>\n",
              "      <td>10.317794</td>\n",
              "      <td>0.533718</td>\n",
              "      <td>0.241871</td>\n",
              "      <td>00:32</td>\n",
              "    </tr>\n",
              "    <tr>\n",
              "      <td>19</td>\n",
              "      <td>0.015923</td>\n",
              "      <td>0.084498</td>\n",
              "      <td>11.284450</td>\n",
              "      <td>0.590015</td>\n",
              "      <td>0.263921</td>\n",
              "      <td>00:32</td>\n",
              "    </tr>\n",
              "  </tbody>\n",
              "</table>"
            ],
            "text/plain": [
              "<IPython.core.display.HTML object>"
            ]
          },
          "metadata": {
            "tags": []
          }
        }
      ]
    },
    {
      "cell_type": "code",
      "metadata": {
        "id": "SBLtNMvwxOus",
        "outputId": "9de639e8-23cf-42c8-90ec-dfb5229927ae",
        "colab": {
          "base_uri": "https://localhost:8080/",
          "height": 17
        }
      },
      "source": [
        "interp = Interpretation.from_learner(learn)"
      ],
      "execution_count": 510,
      "outputs": [
        {
          "output_type": "display_data",
          "data": {
            "text/html": [
              ""
            ],
            "text/plain": [
              "<IPython.core.display.HTML object>"
            ]
          },
          "metadata": {
            "tags": []
          }
        }
      ]
    },
    {
      "cell_type": "code",
      "metadata": {
        "id": "yHq3FnSExSWc"
      },
      "source": [
        "def mean_auc_cpu(pred, targ):\n",
        "  targs = torch.where(torch.sigmoid(targ.sum(dim=1).float())>0.5, torch.sigmoid(targ.sum(dim=1).float()), tensor(0.))\n",
        "  preds = torch.where(torch.sigmoid(pred.sum(dim=1).float())>0.5, torch.sigmoid(pred.sum(dim=1).float()), tensor(0.))\n",
        "\n",
        "  positions = torch.arange(0, 200)\n",
        "  positions = positions.view(1, 200, 1)\n",
        "  distances = torch.transpose(torch.sub(torch.where(targs==1.)[1], positions).abs().squeeze(), 0, 1)\n",
        "\n",
        "  window_means = torch.Tensor([[preds[y][torch.where(distances[y]<= i)].mean() for i in range(100)] for y in range(len(preds))]).mean(0)\n",
        "  \n",
        "  return window_means"
      ],
      "execution_count": 511,
      "outputs": []
    },
    {
      "cell_type": "code",
      "metadata": {
        "id": "8v0GafUPAaCN"
      },
      "source": [
        "window_means = mean_auc_cpu(interp.decoded, interp.targs)"
      ],
      "execution_count": 512,
      "outputs": []
    },
    {
      "cell_type": "code",
      "metadata": {
        "id": "Z02e2QkSxx1j",
        "outputId": "a4b48194-4bc5-421f-f40b-645420e9eaab",
        "colab": {
          "base_uri": "https://localhost:8080/",
          "height": 282
        }
      },
      "source": [
        "matplotlib.pyplot.plot(window_means)"
      ],
      "execution_count": 513,
      "outputs": [
        {
          "output_type": "execute_result",
          "data": {
            "text/plain": [
              "[<matplotlib.lines.Line2D at 0x7f32117dfe10>]"
            ]
          },
          "metadata": {
            "tags": []
          },
          "execution_count": 513
        },
        {
          "output_type": "display_data",
          "data": {
            "image/png": "[encoded data removed]",
            "text/plain": [
              "<Figure size 432x288 with 1 Axes>"
            ]
          },
          "metadata": {
            "tags": [],
            "needs_background": "light"
          }
        }
      ]
    },
    {
      "cell_type": "code",
      "metadata": {
        "id": "dDkvkUjnx9oW",
        "outputId": "16ff4ae4-64d1-4137-98b2-818ce6319496",
        "colab": {
          "base_uri": "https://localhost:8080/",
          "height": 34
        }
      },
      "source": [
        "window_means[0], window_means[10]"
      ],
      "execution_count": 514,
      "outputs": [
        {
          "output_type": "execute_result",
          "data": {
            "text/plain": [
              "(tensor(0.5900), tensor(0.2639))"
            ]
          },
          "metadata": {
            "tags": []
          },
          "execution_count": 514
        }
      ]
    },
    {
      "cell_type": "code",
      "metadata": {
        "id": "1eHhii5RVppa",
        "outputId": "7f495ce8-e507-470d-d31d-26160ceeaa1b",
        "colab": {
          "base_uri": "https://localhost:8080/",
          "height": 297
        }
      },
      "source": [
        "learn.fit_one_cycle(8, lr_max=3e-5)"
      ],
      "execution_count": 515,
      "outputs": [
        {
          "output_type": "display_data",
          "data": {
            "text/html": [
              "<table border=\"1\" class=\"dataframe\">\n",
              "  <thead>\n",
              "    <tr style=\"text-align: left;\">\n",
              "      <th>epoch</th>\n",
              "      <th>train_loss</th>\n",
              "      <th>valid_loss</th>\n",
              "      <th>mean_auc</th>\n",
              "      <th>mean_pos0</th>\n",
              "      <th>mean_pos10</th>\n",
              "      <th>time</th>\n",
              "    </tr>\n",
              "  </thead>\n",
              "  <tbody>\n",
              "    <tr>\n",
              "      <td>0</td>\n",
              "      <td>0.015703</td>\n",
              "      <td>0.098464</td>\n",
              "      <td>12.002695</td>\n",
              "      <td>0.588708</td>\n",
              "      <td>0.282413</td>\n",
              "      <td>00:32</td>\n",
              "    </tr>\n",
              "    <tr>\n",
              "      <td>1</td>\n",
              "      <td>0.019265</td>\n",
              "      <td>0.057628</td>\n",
              "      <td>7.430831</td>\n",
              "      <td>0.358139</td>\n",
              "      <td>0.174179</td>\n",
              "      <td>00:32</td>\n",
              "    </tr>\n",
              "    <tr>\n",
              "      <td>2</td>\n",
              "      <td>0.021387</td>\n",
              "      <td>0.047320</td>\n",
              "      <td>9.780897</td>\n",
              "      <td>0.460721</td>\n",
              "      <td>0.223765</td>\n",
              "      <td>00:32</td>\n",
              "    </tr>\n",
              "    <tr>\n",
              "      <td>3</td>\n",
              "      <td>0.019084</td>\n",
              "      <td>0.053832</td>\n",
              "      <td>8.287128</td>\n",
              "      <td>0.390973</td>\n",
              "      <td>0.189367</td>\n",
              "      <td>00:32</td>\n",
              "    </tr>\n",
              "    <tr>\n",
              "      <td>4</td>\n",
              "      <td>0.016956</td>\n",
              "      <td>0.063926</td>\n",
              "      <td>9.457602</td>\n",
              "      <td>0.400397</td>\n",
              "      <td>0.221266</td>\n",
              "      <td>00:32</td>\n",
              "    </tr>\n",
              "    <tr>\n",
              "      <td>5</td>\n",
              "      <td>0.013593</td>\n",
              "      <td>0.071038</td>\n",
              "      <td>11.169602</td>\n",
              "      <td>0.524496</td>\n",
              "      <td>0.259566</td>\n",
              "      <td>00:32</td>\n",
              "    </tr>\n",
              "    <tr>\n",
              "      <td>6</td>\n",
              "      <td>0.010325</td>\n",
              "      <td>0.088293</td>\n",
              "      <td>9.626084</td>\n",
              "      <td>0.474787</td>\n",
              "      <td>0.222134</td>\n",
              "      <td>00:32</td>\n",
              "    </tr>\n",
              "    <tr>\n",
              "      <td>7</td>\n",
              "      <td>0.008742</td>\n",
              "      <td>0.096731</td>\n",
              "      <td>9.059047</td>\n",
              "      <td>0.447370</td>\n",
              "      <td>0.210155</td>\n",
              "      <td>00:31</td>\n",
              "    </tr>\n",
              "  </tbody>\n",
              "</table>"
            ],
            "text/plain": [
              "<IPython.core.display.HTML object>"
            ]
          },
          "metadata": {
            "tags": []
          }
        }
      ]
    },
    {
      "cell_type": "code",
      "metadata": {
        "id": "Q8DKXbkwbLPc",
        "outputId": "7fc004f7-82d6-451f-8448-16fb76988d4c",
        "colab": {
          "base_uri": "https://localhost:8080/",
          "height": 17
        }
      },
      "source": [
        "interp = Interpretation.from_learner(learn)"
      ],
      "execution_count": 516,
      "outputs": [
        {
          "output_type": "display_data",
          "data": {
            "text/html": [
              ""
            ],
            "text/plain": [
              "<IPython.core.display.HTML object>"
            ]
          },
          "metadata": {
            "tags": []
          }
        }
      ]
    },
    {
      "cell_type": "code",
      "metadata": {
        "id": "8TOpr80J2ntK"
      },
      "source": [
        "window_means = mean_auc_cpu(interp.decoded, interp.targs)"
      ],
      "execution_count": 517,
      "outputs": []
    },
    {
      "cell_type": "code",
      "metadata": {
        "id": "TvnU6ciE2vDi",
        "outputId": "b790a1a0-704c-445b-ba62-820c6acdf55d",
        "colab": {
          "base_uri": "https://localhost:8080/",
          "height": 282
        }
      },
      "source": [
        "matplotlib.pyplot.plot(window_means)"
      ],
      "execution_count": 518,
      "outputs": [
        {
          "output_type": "execute_result",
          "data": {
            "text/plain": [
              "[<matplotlib.lines.Line2D at 0x7f3210bae400>]"
            ]
          },
          "metadata": {
            "tags": []
          },
          "execution_count": 518
        },
        {
          "output_type": "display_data",
          "data": {
            "image/png": "[encoded data removed]",
            "text/plain": [
              "<Figure size 432x288 with 1 Axes>"
            ]
          },
          "metadata": {
            "tags": [],
            "needs_background": "light"
          }
        }
      ]
    },
    {
      "cell_type": "code",
      "metadata": {
        "id": "zede5gGR2vvU",
        "outputId": "7bc54532-789b-4dde-d683-311f19af2440",
        "colab": {
          "base_uri": "https://localhost:8080/",
          "height": 34
        }
      },
      "source": [
        "window_means[0], window_means[10]"
      ],
      "execution_count": 519,
      "outputs": [
        {
          "output_type": "execute_result",
          "data": {
            "text/plain": [
              "(tensor(0.4474), tensor(0.2102))"
            ]
          },
          "metadata": {
            "tags": []
          },
          "execution_count": 519
        }
      ]
    },
    {
      "cell_type": "code",
      "metadata": {
        "id": "h3n9ErIy2228",
        "outputId": "ae0067ac-1a68-485a-d087-c353e78918a4",
        "colab": {
          "base_uri": "https://localhost:8080/",
          "height": 359
        }
      },
      "source": [
        "learn.fit_one_cycle(10, wd=1e-2, lr = slice(3e-5))"
      ],
      "execution_count": 520,
      "outputs": [
        {
          "output_type": "display_data",
          "data": {
            "text/html": [
              "<table border=\"1\" class=\"dataframe\">\n",
              "  <thead>\n",
              "    <tr style=\"text-align: left;\">\n",
              "      <th>epoch</th>\n",
              "      <th>train_loss</th>\n",
              "      <th>valid_loss</th>\n",
              "      <th>mean_auc</th>\n",
              "      <th>mean_pos0</th>\n",
              "      <th>mean_pos10</th>\n",
              "      <th>time</th>\n",
              "    </tr>\n",
              "  </thead>\n",
              "  <tbody>\n",
              "    <tr>\n",
              "      <td>0</td>\n",
              "      <td>0.028317</td>\n",
              "      <td>0.034430</td>\n",
              "      <td>0.120787</td>\n",
              "      <td>0.014133</td>\n",
              "      <td>0.002696</td>\n",
              "      <td>00:32</td>\n",
              "    </tr>\n",
              "    <tr>\n",
              "      <td>1</td>\n",
              "      <td>0.031335</td>\n",
              "      <td>0.032921</td>\n",
              "      <td>0.242280</td>\n",
              "      <td>0.025848</td>\n",
              "      <td>0.005181</td>\n",
              "      <td>00:32</td>\n",
              "    </tr>\n",
              "    <tr>\n",
              "      <td>2</td>\n",
              "      <td>0.030337</td>\n",
              "      <td>0.034501</td>\n",
              "      <td>0.008453</td>\n",
              "      <td>0.000000</td>\n",
              "      <td>0.000174</td>\n",
              "      <td>00:32</td>\n",
              "    </tr>\n",
              "    <tr>\n",
              "      <td>3</td>\n",
              "      <td>0.028562</td>\n",
              "      <td>0.032041</td>\n",
              "      <td>0.000000</td>\n",
              "      <td>0.000000</td>\n",
              "      <td>0.000000</td>\n",
              "      <td>00:31</td>\n",
              "    </tr>\n",
              "    <tr>\n",
              "      <td>4</td>\n",
              "      <td>0.026540</td>\n",
              "      <td>0.033534</td>\n",
              "      <td>0.000000</td>\n",
              "      <td>0.000000</td>\n",
              "      <td>0.000000</td>\n",
              "      <td>00:32</td>\n",
              "    </tr>\n",
              "    <tr>\n",
              "      <td>5</td>\n",
              "      <td>0.025166</td>\n",
              "      <td>0.032677</td>\n",
              "      <td>0.000000</td>\n",
              "      <td>0.000000</td>\n",
              "      <td>0.000000</td>\n",
              "      <td>00:31</td>\n",
              "    </tr>\n",
              "    <tr>\n",
              "      <td>6</td>\n",
              "      <td>0.023304</td>\n",
              "      <td>0.032496</td>\n",
              "      <td>0.155014</td>\n",
              "      <td>0.022680</td>\n",
              "      <td>0.003100</td>\n",
              "      <td>00:32</td>\n",
              "    </tr>\n",
              "    <tr>\n",
              "      <td>7</td>\n",
              "      <td>0.019407</td>\n",
              "      <td>0.037665</td>\n",
              "      <td>7.101505</td>\n",
              "      <td>0.545173</td>\n",
              "      <td>0.155452</td>\n",
              "      <td>00:32</td>\n",
              "    </tr>\n",
              "    <tr>\n",
              "      <td>8</td>\n",
              "      <td>0.015862</td>\n",
              "      <td>0.050868</td>\n",
              "      <td>10.257111</td>\n",
              "      <td>0.673942</td>\n",
              "      <td>0.229500</td>\n",
              "      <td>00:32</td>\n",
              "    </tr>\n",
              "    <tr>\n",
              "      <td>9</td>\n",
              "      <td>0.012521</td>\n",
              "      <td>0.064211</td>\n",
              "      <td>10.107177</td>\n",
              "      <td>0.658454</td>\n",
              "      <td>0.227076</td>\n",
              "      <td>00:32</td>\n",
              "    </tr>\n",
              "  </tbody>\n",
              "</table>"
            ],
            "text/plain": [
              "<IPython.core.display.HTML object>"
            ]
          },
          "metadata": {
            "tags": []
          }
        }
      ]
    },
    {
      "cell_type": "code",
      "metadata": {
        "id": "xr7bbt1Z2-7Z",
        "outputId": "a8017dcd-b97d-446c-a6fb-ba74cd92ba60",
        "colab": {
          "base_uri": "https://localhost:8080/",
          "height": 17
        }
      },
      "source": [
        "interp = Interpretation.from_learner(learn)"
      ],
      "execution_count": 521,
      "outputs": [
        {
          "output_type": "display_data",
          "data": {
            "text/html": [
              ""
            ],
            "text/plain": [
              "<IPython.core.display.HTML object>"
            ]
          },
          "metadata": {
            "tags": []
          }
        }
      ]
    },
    {
      "cell_type": "code",
      "metadata": {
        "id": "gW5mvYgS3GJ5"
      },
      "source": [
        "window_means = mean_auc_cpu(interp.decoded, interp.targs)"
      ],
      "execution_count": 522,
      "outputs": []
    },
    {
      "cell_type": "code",
      "metadata": {
        "id": "ZTghAO2a3H1V",
        "outputId": "33fbc1d6-d730-47a9-cf9a-25a36ae9cc9c",
        "colab": {
          "base_uri": "https://localhost:8080/",
          "height": 282
        }
      },
      "source": [
        "matplotlib.pyplot.plot(window_means)"
      ],
      "execution_count": 523,
      "outputs": [
        {
          "output_type": "execute_result",
          "data": {
            "text/plain": [
              "[<matplotlib.lines.Line2D at 0x7f3210b72710>]"
            ]
          },
          "metadata": {
            "tags": []
          },
          "execution_count": 523
        },
        {
          "output_type": "display_data",
          "data": {
            "image/png": "[encoded data removed]",
            "text/plain": [
              "<Figure size 432x288 with 1 Axes>"
            ]
          },
          "metadata": {
            "tags": [],
            "needs_background": "light"
          }
        }
      ]
    },
    {
      "cell_type": "code",
      "metadata": {
        "id": "9V0_i85n3IPe",
        "outputId": "6b654c18-3e61-447a-88c8-a5edaec0c5f9",
        "colab": {
          "base_uri": "https://localhost:8080/",
          "height": 34
        }
      },
      "source": [
        "window_means[0], window_means[10]"
      ],
      "execution_count": 524,
      "outputs": [
        {
          "output_type": "execute_result",
          "data": {
            "text/plain": [
              "(tensor(0.6585), tensor(0.2271))"
            ]
          },
          "metadata": {
            "tags": []
          },
          "execution_count": 524
        }
      ]
    },
    {
      "cell_type": "code",
      "metadata": {
        "id": "fFXTPdERHFvV",
        "outputId": "9e35c424-1d81-4729-c01e-d776ac10c9dd",
        "colab": {
          "base_uri": "https://localhost:8080/",
          "height": 391
        }
      },
      "source": [
        "learn.fine_tune(5, freeze_epochs=5)"
      ],
      "execution_count": 525,
      "outputs": [
        {
          "output_type": "display_data",
          "data": {
            "text/html": [
              "<table border=\"1\" class=\"dataframe\">\n",
              "  <thead>\n",
              "    <tr style=\"text-align: left;\">\n",
              "      <th>epoch</th>\n",
              "      <th>train_loss</th>\n",
              "      <th>valid_loss</th>\n",
              "      <th>mean_auc</th>\n",
              "      <th>mean_pos0</th>\n",
              "      <th>mean_pos10</th>\n",
              "      <th>time</th>\n",
              "    </tr>\n",
              "  </thead>\n",
              "  <tbody>\n",
              "    <tr>\n",
              "      <td>0</td>\n",
              "      <td>0.011890</td>\n",
              "      <td>0.065222</td>\n",
              "      <td>11.405474</td>\n",
              "      <td>0.704867</td>\n",
              "      <td>0.258543</td>\n",
              "      <td>00:31</td>\n",
              "    </tr>\n",
              "    <tr>\n",
              "      <td>1</td>\n",
              "      <td>0.014007</td>\n",
              "      <td>0.056037</td>\n",
              "      <td>9.540545</td>\n",
              "      <td>0.635364</td>\n",
              "      <td>0.213246</td>\n",
              "      <td>00:31</td>\n",
              "    </tr>\n",
              "    <tr>\n",
              "      <td>2</td>\n",
              "      <td>0.014996</td>\n",
              "      <td>0.074628</td>\n",
              "      <td>12.099638</td>\n",
              "      <td>0.723331</td>\n",
              "      <td>0.275054</td>\n",
              "      <td>00:31</td>\n",
              "    </tr>\n",
              "    <tr>\n",
              "      <td>3</td>\n",
              "      <td>0.016846</td>\n",
              "      <td>0.037294</td>\n",
              "      <td>12.221889</td>\n",
              "      <td>0.688803</td>\n",
              "      <td>0.275719</td>\n",
              "      <td>00:31</td>\n",
              "    </tr>\n",
              "    <tr>\n",
              "      <td>4</td>\n",
              "      <td>0.018703</td>\n",
              "      <td>0.043896</td>\n",
              "      <td>0.000000</td>\n",
              "      <td>0.000000</td>\n",
              "      <td>0.000000</td>\n",
              "      <td>00:31</td>\n",
              "    </tr>\n",
              "  </tbody>\n",
              "</table>"
            ],
            "text/plain": [
              "<IPython.core.display.HTML object>"
            ]
          },
          "metadata": {
            "tags": []
          }
        },
        {
          "output_type": "display_data",
          "data": {
            "text/html": [
              "<table border=\"1\" class=\"dataframe\">\n",
              "  <thead>\n",
              "    <tr style=\"text-align: left;\">\n",
              "      <th>epoch</th>\n",
              "      <th>train_loss</th>\n",
              "      <th>valid_loss</th>\n",
              "      <th>mean_auc</th>\n",
              "      <th>mean_pos0</th>\n",
              "      <th>mean_pos10</th>\n",
              "      <th>time</th>\n",
              "    </tr>\n",
              "  </thead>\n",
              "  <tbody>\n",
              "    <tr>\n",
              "      <td>0</td>\n",
              "      <td>0.012833</td>\n",
              "      <td>0.095442</td>\n",
              "      <td>11.424605</td>\n",
              "      <td>0.664547</td>\n",
              "      <td>0.259660</td>\n",
              "      <td>00:32</td>\n",
              "    </tr>\n",
              "    <tr>\n",
              "      <td>1</td>\n",
              "      <td>0.013378</td>\n",
              "      <td>0.077037</td>\n",
              "      <td>11.992939</td>\n",
              "      <td>0.686969</td>\n",
              "      <td>0.273763</td>\n",
              "      <td>00:32</td>\n",
              "    </tr>\n",
              "    <tr>\n",
              "      <td>2</td>\n",
              "      <td>0.012578</td>\n",
              "      <td>0.093258</td>\n",
              "      <td>11.288776</td>\n",
              "      <td>0.681672</td>\n",
              "      <td>0.255244</td>\n",
              "      <td>00:32</td>\n",
              "    </tr>\n",
              "    <tr>\n",
              "      <td>3</td>\n",
              "      <td>0.009527</td>\n",
              "      <td>0.101172</td>\n",
              "      <td>11.580418</td>\n",
              "      <td>0.684108</td>\n",
              "      <td>0.261110</td>\n",
              "      <td>00:32</td>\n",
              "    </tr>\n",
              "    <tr>\n",
              "      <td>4</td>\n",
              "      <td>0.006125</td>\n",
              "      <td>0.137898</td>\n",
              "      <td>11.081012</td>\n",
              "      <td>0.664002</td>\n",
              "      <td>0.250049</td>\n",
              "      <td>00:32</td>\n",
              "    </tr>\n",
              "  </tbody>\n",
              "</table>"
            ],
            "text/plain": [
              "<IPython.core.display.HTML object>"
            ]
          },
          "metadata": {
            "tags": []
          }
        }
      ]
    },
    {
      "cell_type": "code",
      "metadata": {
        "id": "STKVtnWmHUJT",
        "outputId": "3a56d39b-1c1f-4c9a-badb-500c5111a98b",
        "colab": {
          "base_uri": "https://localhost:8080/",
          "height": 17
        }
      },
      "source": [
        "interp = Interpretation.from_learner(learn)"
      ],
      "execution_count": 526,
      "outputs": [
        {
          "output_type": "display_data",
          "data": {
            "text/html": [
              ""
            ],
            "text/plain": [
              "<IPython.core.display.HTML object>"
            ]
          },
          "metadata": {
            "tags": []
          }
        }
      ]
    },
    {
      "cell_type": "code",
      "metadata": {
        "id": "lTJxHBH_HVfa"
      },
      "source": [
        "window_means = mean_auc_cpu(interp.decoded, interp.targs)"
      ],
      "execution_count": 527,
      "outputs": []
    },
    {
      "cell_type": "code",
      "metadata": {
        "id": "OMMqa0XtHfjd",
        "outputId": "436d7cf1-0de8-4658-8774-111ebbcefeca",
        "colab": {
          "base_uri": "https://localhost:8080/",
          "height": 282
        }
      },
      "source": [
        "matplotlib.pyplot.plot(window_means)"
      ],
      "execution_count": 528,
      "outputs": [
        {
          "output_type": "execute_result",
          "data": {
            "text/plain": [
              "[<matplotlib.lines.Line2D at 0x7f3210af0320>]"
            ]
          },
          "metadata": {
            "tags": []
          },
          "execution_count": 528
        },
        {
          "output_type": "display_data",
          "data": {
            "image/png": "[encoded data removed]",
            "text/plain": [
              "<Figure size 432x288 with 1 Axes>"
            ]
          },
          "metadata": {
            "tags": [],
            "needs_background": "light"
          }
        }
      ]
    },
    {
      "cell_type": "code",
      "metadata": {
        "id": "zVJIjeKTHgEy",
        "outputId": "19141ec9-6d86-4cf9-92cf-307c4fe0248f",
        "colab": {
          "base_uri": "https://localhost:8080/",
          "height": 34
        }
      },
      "source": [
        "window_means[0], window_means[10]"
      ],
      "execution_count": 529,
      "outputs": [
        {
          "output_type": "execute_result",
          "data": {
            "text/plain": [
              "(tensor(0.6640), tensor(0.2500))"
            ]
          },
          "metadata": {
            "tags": []
          },
          "execution_count": 529
        }
      ]
    },
    {
      "cell_type": "code",
      "metadata": {
        "id": "zMCKIlacijVL"
      },
      "source": [
        "pred_sums = []\n",
        "\n",
        "for i in interp.decoded:\n",
        "  pred_colsum = i.sum(dim=0)\n",
        "  pred_sums.append(pred_colsum)"
      ],
      "execution_count": 530,
      "outputs": []
    },
    {
      "cell_type": "code",
      "metadata": {
        "id": "4Cxjyca_jC8O"
      },
      "source": [
        "target = interp.targs"
      ],
      "execution_count": 531,
      "outputs": []
    },
    {
      "cell_type": "code",
      "metadata": {
        "id": "OE62cchojMr2"
      },
      "source": [
        "targ_sums = []\n",
        "\n",
        "for i in target:\n",
        "  targ_colsum = i.sum(dim=0)\n",
        "  targ_sums.append(targ_colsum)"
      ],
      "execution_count": 532,
      "outputs": []
    },
    {
      "cell_type": "code",
      "metadata": {
        "id": "8uiS7Oe5joZj"
      },
      "source": [
        "import numpy as np\n",
        "import pandas as pd\n",
        "\n",
        "pred_sums_np = np.asarray([to_np(i) for i in pred_sums])\n",
        "pred_sums_df = pd.DataFrame(pred_sums_np)\n",
        "\n",
        "targ_sums_np = np.asarray([to_np(i) for i in targ_sums])\n",
        "targ_sums_df = pd.DataFrame(targ_sums_np)"
      ],
      "execution_count": 533,
      "outputs": []
    },
    {
      "cell_type": "code",
      "metadata": {
        "id": "Ntbpr2mej3FF"
      },
      "source": [
        "pred_sums_df.to_csv(\"/content/gdrive/My Drive/fastai-v3/data/pred_sums_one-strong2.txt\", sep=\"\\t\")\n",
        "targ_sums_df.to_csv(\"/content/gdrive/My Drive/fastai-v3/data/target_sums_one-strong2.txt\", sep=\"\\t\")"
      ],
      "execution_count": 534,
      "outputs": []
    }
  ]
}