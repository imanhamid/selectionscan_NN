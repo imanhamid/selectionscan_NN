{
  "nbformat": 4,
  "nbformat_minor": 0,
  "metadata": {
    "jupytext": {
      "split_at_heading": true
    },
    "kernelspec": {
      "display_name": "Python 3",
      "language": "python",
      "name": "python3"
    },
    "language_info": {
      "codemirror_mode": {
        "name": "ipython",
        "version": 3
      },
      "file_extension": ".py",
      "mimetype": "text/x-python",
      "name": "python",
      "nbconvert_exporter": "python",
      "pygments_lexer": "ipython3",
      "version": "3.7.7"
    },
    "toc": {
      "base_numbering": 1,
      "nav_menu": {},
      "number_sections": false,
      "sideBar": true,
      "skip_h1_title": true,
      "title_cell": "Table of Contents",
      "title_sidebar": "Contents",
      "toc_cell": false,
      "toc_position": {},
      "toc_section_display": true,
      "toc_window_display": false
    },
    "colab": {
      "name": "objectlocalization_one-strong.ipynb",
      "provenance": [],
      "collapsed_sections": [],
      "include_colab_link": true
    },
    "accelerator": "GPU",
    "widgets": {
      "application/vnd.jupyter.widget-state+json": {
        "759ec3ec7a3c4675837701dfe150b3e3": {
          "model_module": "@jupyter-widgets/controls",
          "model_name": "HBoxModel",
          "state": {
            "_view_name": "HBoxView",
            "_dom_classes": [],
            "_model_name": "HBoxModel",
            "_view_module": "@jupyter-widgets/controls",
            "_model_module_version": "1.5.0",
            "_view_count": null,
            "_view_module_version": "1.5.0",
            "box_style": "",
            "layout": "IPY_MODEL_f0ec5906ccce4e1ba0609b0d80324f0d",
            "_model_module": "@jupyter-widgets/controls",
            "children": [
              "IPY_MODEL_40d05f25de6e40b299ad924d18a655bc",
              "IPY_MODEL_5dfd065e4b4d427caaf629584ab8cb7a",
              "IPY_MODEL_5f18fb8c319647d58f4923769ea8af35"
            ]
          }
        },
        "f0ec5906ccce4e1ba0609b0d80324f0d": {
          "model_module": "@jupyter-widgets/base",
          "model_name": "LayoutModel",
          "state": {
            "_view_name": "LayoutView",
            "grid_template_rows": null,
            "right": null,
            "justify_content": null,
            "_view_module": "@jupyter-widgets/base",
            "overflow": null,
            "_model_module_version": "1.2.0",
            "_view_count": null,
            "flex_flow": null,
            "width": null,
            "min_width": null,
            "border": null,
            "align_items": null,
            "bottom": null,
            "_model_module": "@jupyter-widgets/base",
            "top": null,
            "grid_column": null,
            "overflow_y": null,
            "overflow_x": null,
            "grid_auto_flow": null,
            "grid_area": null,
            "grid_template_columns": null,
            "flex": null,
            "_model_name": "LayoutModel",
            "justify_items": null,
            "grid_row": null,
            "max_height": null,
            "align_content": null,
            "visibility": null,
            "align_self": null,
            "height": null,
            "min_height": null,
            "padding": null,
            "grid_auto_rows": null,
            "grid_gap": null,
            "max_width": null,
            "order": null,
            "_view_module_version": "1.2.0",
            "grid_template_areas": null,
            "object_position": null,
            "object_fit": null,
            "grid_auto_columns": null,
            "margin": null,
            "display": null,
            "left": null
          }
        },
        "40d05f25de6e40b299ad924d18a655bc": {
          "model_module": "@jupyter-widgets/controls",
          "model_name": "HTMLModel",
          "state": {
            "_view_name": "HTMLView",
            "style": "IPY_MODEL_a8887109c3514f39af1c43ca78194140",
            "_dom_classes": [],
            "description": "",
            "_model_name": "HTMLModel",
            "placeholder": "​",
            "_view_module": "@jupyter-widgets/controls",
            "_model_module_version": "1.5.0",
            "value": "100%",
            "_view_count": null,
            "_view_module_version": "1.5.0",
            "description_tooltip": null,
            "_model_module": "@jupyter-widgets/controls",
            "layout": "IPY_MODEL_d7d990cf7bda4fd1af3489803b26a1f7"
          }
        },
        "5dfd065e4b4d427caaf629584ab8cb7a": {
          "model_module": "@jupyter-widgets/controls",
          "model_name": "FloatProgressModel",
          "state": {
            "_view_name": "ProgressView",
            "style": "IPY_MODEL_8e6c037442f4496da5d2c00d233a027e",
            "_dom_classes": [],
            "description": "",
            "_model_name": "FloatProgressModel",
            "bar_style": "success",
            "max": 1000,
            "_view_module": "@jupyter-widgets/controls",
            "_model_module_version": "1.5.0",
            "value": 1000,
            "_view_count": null,
            "_view_module_version": "1.5.0",
            "orientation": "horizontal",
            "min": 0,
            "description_tooltip": null,
            "_model_module": "@jupyter-widgets/controls",
            "layout": "IPY_MODEL_7e208c4dfd0742bcbc2a381e2373039e"
          }
        },
        "5f18fb8c319647d58f4923769ea8af35": {
          "model_module": "@jupyter-widgets/controls",
          "model_name": "HTMLModel",
          "state": {
            "_view_name": "HTMLView",
            "style": "IPY_MODEL_65182c294bf249c4980933367525435f",
            "_dom_classes": [],
            "description": "",
            "_model_name": "HTMLModel",
            "placeholder": "​",
            "_view_module": "@jupyter-widgets/controls",
            "_model_module_version": "1.5.0",
            "value": " 1000/1000 [03:30&lt;00:00,  4.96it/s]",
            "_view_count": null,
            "_view_module_version": "1.5.0",
            "description_tooltip": null,
            "_model_module": "@jupyter-widgets/controls",
            "layout": "IPY_MODEL_3fafce69817b46c4bbc2f116503ed288"
          }
        },
        "a8887109c3514f39af1c43ca78194140": {
          "model_module": "@jupyter-widgets/controls",
          "model_name": "DescriptionStyleModel",
          "state": {
            "_view_name": "StyleView",
            "_model_name": "DescriptionStyleModel",
            "description_width": "",
            "_view_module": "@jupyter-widgets/base",
            "_model_module_version": "1.5.0",
            "_view_count": null,
            "_view_module_version": "1.2.0",
            "_model_module": "@jupyter-widgets/controls"
          }
        },
        "d7d990cf7bda4fd1af3489803b26a1f7": {
          "model_module": "@jupyter-widgets/base",
          "model_name": "LayoutModel",
          "state": {
            "_view_name": "LayoutView",
            "grid_template_rows": null,
            "right": null,
            "justify_content": null,
            "_view_module": "@jupyter-widgets/base",
            "overflow": null,
            "_model_module_version": "1.2.0",
            "_view_count": null,
            "flex_flow": null,
            "width": null,
            "min_width": null,
            "border": null,
            "align_items": null,
            "bottom": null,
            "_model_module": "@jupyter-widgets/base",
            "top": null,
            "grid_column": null,
            "overflow_y": null,
            "overflow_x": null,
            "grid_auto_flow": null,
            "grid_area": null,
            "grid_template_columns": null,
            "flex": null,
            "_model_name": "LayoutModel",
            "justify_items": null,
            "grid_row": null,
            "max_height": null,
            "align_content": null,
            "visibility": null,
            "align_self": null,
            "height": null,
            "min_height": null,
            "padding": null,
            "grid_auto_rows": null,
            "grid_gap": null,
            "max_width": null,
            "order": null,
            "_view_module_version": "1.2.0",
            "grid_template_areas": null,
            "object_position": null,
            "object_fit": null,
            "grid_auto_columns": null,
            "margin": null,
            "display": null,
            "left": null
          }
        },
        "8e6c037442f4496da5d2c00d233a027e": {
          "model_module": "@jupyter-widgets/controls",
          "model_name": "ProgressStyleModel",
          "state": {
            "_view_name": "StyleView",
            "_model_name": "ProgressStyleModel",
            "description_width": "",
            "_view_module": "@jupyter-widgets/base",
            "_model_module_version": "1.5.0",
            "_view_count": null,
            "_view_module_version": "1.2.0",
            "bar_color": null,
            "_model_module": "@jupyter-widgets/controls"
          }
        },
        "7e208c4dfd0742bcbc2a381e2373039e": {
          "model_module": "@jupyter-widgets/base",
          "model_name": "LayoutModel",
          "state": {
            "_view_name": "LayoutView",
            "grid_template_rows": null,
            "right": null,
            "justify_content": null,
            "_view_module": "@jupyter-widgets/base",
            "overflow": null,
            "_model_module_version": "1.2.0",
            "_view_count": null,
            "flex_flow": null,
            "width": null,
            "min_width": null,
            "border": null,
            "align_items": null,
            "bottom": null,
            "_model_module": "@jupyter-widgets/base",
            "top": null,
            "grid_column": null,
            "overflow_y": null,
            "overflow_x": null,
            "grid_auto_flow": null,
            "grid_area": null,
            "grid_template_columns": null,
            "flex": null,
            "_model_name": "LayoutModel",
            "justify_items": null,
            "grid_row": null,
            "max_height": null,
            "align_content": null,
            "visibility": null,
            "align_self": null,
            "height": null,
            "min_height": null,
            "padding": null,
            "grid_auto_rows": null,
            "grid_gap": null,
            "max_width": null,
            "order": null,
            "_view_module_version": "1.2.0",
            "grid_template_areas": null,
            "object_position": null,
            "object_fit": null,
            "grid_auto_columns": null,
            "margin": null,
            "display": null,
            "left": null
          }
        },
        "65182c294bf249c4980933367525435f": {
          "model_module": "@jupyter-widgets/controls",
          "model_name": "DescriptionStyleModel",
          "state": {
            "_view_name": "StyleView",
            "_model_name": "DescriptionStyleModel",
            "description_width": "",
            "_view_module": "@jupyter-widgets/base",
            "_model_module_version": "1.5.0",
            "_view_count": null,
            "_view_module_version": "1.2.0",
            "_model_module": "@jupyter-widgets/controls"
          }
        },
        "3fafce69817b46c4bbc2f116503ed288": {
          "model_module": "@jupyter-widgets/base",
          "model_name": "LayoutModel",
          "state": {
            "_view_name": "LayoutView",
            "grid_template_rows": null,
            "right": null,
            "justify_content": null,
            "_view_module": "@jupyter-widgets/base",
            "overflow": null,
            "_model_module_version": "1.2.0",
            "_view_count": null,
            "flex_flow": null,
            "width": null,
            "min_width": null,
            "border": null,
            "align_items": null,
            "bottom": null,
            "_model_module": "@jupyter-widgets/base",
            "top": null,
            "grid_column": null,
            "overflow_y": null,
            "overflow_x": null,
            "grid_auto_flow": null,
            "grid_area": null,
            "grid_template_columns": null,
            "flex": null,
            "_model_name": "LayoutModel",
            "justify_items": null,
            "grid_row": null,
            "max_height": null,
            "align_content": null,
            "visibility": null,
            "align_self": null,
            "height": null,
            "min_height": null,
            "padding": null,
            "grid_auto_rows": null,
            "grid_gap": null,
            "max_width": null,
            "order": null,
            "_view_module_version": "1.2.0",
            "grid_template_areas": null,
            "object_position": null,
            "object_fit": null,
            "grid_auto_columns": null,
            "margin": null,
            "display": null,
            "left": null
          }
        },
        "20fbd9b86a1645d9be0152f6c64bfb99": {
          "model_module": "@jupyter-widgets/controls",
          "model_name": "HBoxModel",
          "state": {
            "_view_name": "HBoxView",
            "_dom_classes": [],
            "_model_name": "HBoxModel",
            "_view_module": "@jupyter-widgets/controls",
            "_model_module_version": "1.5.0",
            "_view_count": null,
            "_view_module_version": "1.5.0",
            "box_style": "",
            "layout": "IPY_MODEL_5e878ca076b143d7966566e8095ddc65",
            "_model_module": "@jupyter-widgets/controls",
            "children": [
              "IPY_MODEL_f58b0a413a5b45c7a2f6b5cecab9c5ce",
              "IPY_MODEL_b101c00cb59b48bf993f02f1c570c059",
              "IPY_MODEL_1141d9fd94e2463b9f3bc18ff7588bf1"
            ]
          }
        },
        "5e878ca076b143d7966566e8095ddc65": {
          "model_module": "@jupyter-widgets/base",
          "model_name": "LayoutModel",
          "state": {
            "_view_name": "LayoutView",
            "grid_template_rows": null,
            "right": null,
            "justify_content": null,
            "_view_module": "@jupyter-widgets/base",
            "overflow": null,
            "_model_module_version": "1.2.0",
            "_view_count": null,
            "flex_flow": null,
            "width": null,
            "min_width": null,
            "border": null,
            "align_items": null,
            "bottom": null,
            "_model_module": "@jupyter-widgets/base",
            "top": null,
            "grid_column": null,
            "overflow_y": null,
            "overflow_x": null,
            "grid_auto_flow": null,
            "grid_area": null,
            "grid_template_columns": null,
            "flex": null,
            "_model_name": "LayoutModel",
            "justify_items": null,
            "grid_row": null,
            "max_height": null,
            "align_content": null,
            "visibility": null,
            "align_self": null,
            "height": null,
            "min_height": null,
            "padding": null,
            "grid_auto_rows": null,
            "grid_gap": null,
            "max_width": null,
            "order": null,
            "_view_module_version": "1.2.0",
            "grid_template_areas": null,
            "object_position": null,
            "object_fit": null,
            "grid_auto_columns": null,
            "margin": null,
            "display": null,
            "left": null
          }
        },
        "f58b0a413a5b45c7a2f6b5cecab9c5ce": {
          "model_module": "@jupyter-widgets/controls",
          "model_name": "HTMLModel",
          "state": {
            "_view_name": "HTMLView",
            "style": "IPY_MODEL_b67160ce96df4d549533da5401c96cd6",
            "_dom_classes": [],
            "description": "",
            "_model_name": "HTMLModel",
            "placeholder": "​",
            "_view_module": "@jupyter-widgets/controls",
            "_model_module_version": "1.5.0",
            "value": "100%",
            "_view_count": null,
            "_view_module_version": "1.5.0",
            "description_tooltip": null,
            "_model_module": "@jupyter-widgets/controls",
            "layout": "IPY_MODEL_1c166e16f4844bdd822c89a350ac6968"
          }
        },
        "b101c00cb59b48bf993f02f1c570c059": {
          "model_module": "@jupyter-widgets/controls",
          "model_name": "FloatProgressModel",
          "state": {
            "_view_name": "ProgressView",
            "style": "IPY_MODEL_a94e7b4eca9b46779b73b5e7134a6a10",
            "_dom_classes": [],
            "description": "",
            "_model_name": "FloatProgressModel",
            "bar_style": "success",
            "max": 46827520,
            "_view_module": "@jupyter-widgets/controls",
            "_model_module_version": "1.5.0",
            "value": 46827520,
            "_view_count": null,
            "_view_module_version": "1.5.0",
            "orientation": "horizontal",
            "min": 0,
            "description_tooltip": null,
            "_model_module": "@jupyter-widgets/controls",
            "layout": "IPY_MODEL_f8e4db6b19eb4577add8815a504a5341"
          }
        },
        "1141d9fd94e2463b9f3bc18ff7588bf1": {
          "model_module": "@jupyter-widgets/controls",
          "model_name": "HTMLModel",
          "state": {
            "_view_name": "HTMLView",
            "style": "IPY_MODEL_f574c5d94c234ad2b9c6c44ce17b75d7",
            "_dom_classes": [],
            "description": "",
            "_model_name": "HTMLModel",
            "placeholder": "​",
            "_view_module": "@jupyter-widgets/controls",
            "_model_module_version": "1.5.0",
            "value": " 44.7M/44.7M [00:00&lt;00:00, 185MB/s]",
            "_view_count": null,
            "_view_module_version": "1.5.0",
            "description_tooltip": null,
            "_model_module": "@jupyter-widgets/controls",
            "layout": "IPY_MODEL_5f2ccdfdd6f8478c9f3f62835b31296d"
          }
        },
        "b67160ce96df4d549533da5401c96cd6": {
          "model_module": "@jupyter-widgets/controls",
          "model_name": "DescriptionStyleModel",
          "state": {
            "_view_name": "StyleView",
            "_model_name": "DescriptionStyleModel",
            "description_width": "",
            "_view_module": "@jupyter-widgets/base",
            "_model_module_version": "1.5.0",
            "_view_count": null,
            "_view_module_version": "1.2.0",
            "_model_module": "@jupyter-widgets/controls"
          }
        },
        "1c166e16f4844bdd822c89a350ac6968": {
          "model_module": "@jupyter-widgets/base",
          "model_name": "LayoutModel",
          "state": {
            "_view_name": "LayoutView",
            "grid_template_rows": null,
            "right": null,
            "justify_content": null,
            "_view_module": "@jupyter-widgets/base",
            "overflow": null,
            "_model_module_version": "1.2.0",
            "_view_count": null,
            "flex_flow": null,
            "width": null,
            "min_width": null,
            "border": null,
            "align_items": null,
            "bottom": null,
            "_model_module": "@jupyter-widgets/base",
            "top": null,
            "grid_column": null,
            "overflow_y": null,
            "overflow_x": null,
            "grid_auto_flow": null,
            "grid_area": null,
            "grid_template_columns": null,
            "flex": null,
            "_model_name": "LayoutModel",
            "justify_items": null,
            "grid_row": null,
            "max_height": null,
            "align_content": null,
            "visibility": null,
            "align_self": null,
            "height": null,
            "min_height": null,
            "padding": null,
            "grid_auto_rows": null,
            "grid_gap": null,
            "max_width": null,
            "order": null,
            "_view_module_version": "1.2.0",
            "grid_template_areas": null,
            "object_position": null,
            "object_fit": null,
            "grid_auto_columns": null,
            "margin": null,
            "display": null,
            "left": null
          }
        },
        "a94e7b4eca9b46779b73b5e7134a6a10": {
          "model_module": "@jupyter-widgets/controls",
          "model_name": "ProgressStyleModel",
          "state": {
            "_view_name": "StyleView",
            "_model_name": "ProgressStyleModel",
            "description_width": "",
            "_view_module": "@jupyter-widgets/base",
            "_model_module_version": "1.5.0",
            "_view_count": null,
            "_view_module_version": "1.2.0",
            "bar_color": null,
            "_model_module": "@jupyter-widgets/controls"
          }
        },
        "f8e4db6b19eb4577add8815a504a5341": {
          "model_module": "@jupyter-widgets/base",
          "model_name": "LayoutModel",
          "state": {
            "_view_name": "LayoutView",
            "grid_template_rows": null,
            "right": null,
            "justify_content": null,
            "_view_module": "@jupyter-widgets/base",
            "overflow": null,
            "_model_module_version": "1.2.0",
            "_view_count": null,
            "flex_flow": null,
            "width": null,
            "min_width": null,
            "border": null,
            "align_items": null,
            "bottom": null,
            "_model_module": "@jupyter-widgets/base",
            "top": null,
            "grid_column": null,
            "overflow_y": null,
            "overflow_x": null,
            "grid_auto_flow": null,
            "grid_area": null,
            "grid_template_columns": null,
            "flex": null,
            "_model_name": "LayoutModel",
            "justify_items": null,
            "grid_row": null,
            "max_height": null,
            "align_content": null,
            "visibility": null,
            "align_self": null,
            "height": null,
            "min_height": null,
            "padding": null,
            "grid_auto_rows": null,
            "grid_gap": null,
            "max_width": null,
            "order": null,
            "_view_module_version": "1.2.0",
            "grid_template_areas": null,
            "object_position": null,
            "object_fit": null,
            "grid_auto_columns": null,
            "margin": null,
            "display": null,
            "left": null
          }
        },
        "f574c5d94c234ad2b9c6c44ce17b75d7": {
          "model_module": "@jupyter-widgets/controls",
          "model_name": "DescriptionStyleModel",
          "state": {
            "_view_name": "StyleView",
            "_model_name": "DescriptionStyleModel",
            "description_width": "",
            "_view_module": "@jupyter-widgets/base",
            "_model_module_version": "1.5.0",
            "_view_count": null,
            "_view_module_version": "1.2.0",
            "_model_module": "@jupyter-widgets/controls"
          }
        },
        "5f2ccdfdd6f8478c9f3f62835b31296d": {
          "model_module": "@jupyter-widgets/base",
          "model_name": "LayoutModel",
          "state": {
            "_view_name": "LayoutView",
            "grid_template_rows": null,
            "right": null,
            "justify_content": null,
            "_view_module": "@jupyter-widgets/base",
            "overflow": null,
            "_model_module_version": "1.2.0",
            "_view_count": null,
            "flex_flow": null,
            "width": null,
            "min_width": null,
            "border": null,
            "align_items": null,
            "bottom": null,
            "_model_module": "@jupyter-widgets/base",
            "top": null,
            "grid_column": null,
            "overflow_y": null,
            "overflow_x": null,
            "grid_auto_flow": null,
            "grid_area": null,
            "grid_template_columns": null,
            "flex": null,
            "_model_name": "LayoutModel",
            "justify_items": null,
            "grid_row": null,
            "max_height": null,
            "align_content": null,
            "visibility": null,
            "align_self": null,
            "height": null,
            "min_height": null,
            "padding": null,
            "grid_auto_rows": null,
            "grid_gap": null,
            "max_width": null,
            "order": null,
            "_view_module_version": "1.2.0",
            "grid_template_areas": null,
            "object_position": null,
            "object_fit": null,
            "grid_auto_columns": null,
            "margin": null,
            "display": null,
            "left": null
          }
        },
        "78ca64ba2022434d9efd83346ab73008": {
          "model_module": "@jupyter-widgets/controls",
          "model_name": "HBoxModel",
          "state": {
            "_view_name": "HBoxView",
            "_dom_classes": [],
            "_model_name": "HBoxModel",
            "_view_module": "@jupyter-widgets/controls",
            "_model_module_version": "1.5.0",
            "_view_count": null,
            "_view_module_version": "1.5.0",
            "box_style": "",
            "layout": "IPY_MODEL_5702c725af224bba87362cd87e104927",
            "_model_module": "@jupyter-widgets/controls",
            "children": [
              "IPY_MODEL_b5e7c514a9cc453798b8850cd3c2ddce",
              "IPY_MODEL_04b9349c57dd4aea86b12458f2ec0a82",
              "IPY_MODEL_0ee2aac688d04a3783dc2df6ccbd4d5b"
            ]
          }
        },
        "5702c725af224bba87362cd87e104927": {
          "model_module": "@jupyter-widgets/base",
          "model_name": "LayoutModel",
          "state": {
            "_view_name": "LayoutView",
            "grid_template_rows": null,
            "right": null,
            "justify_content": null,
            "_view_module": "@jupyter-widgets/base",
            "overflow": null,
            "_model_module_version": "1.2.0",
            "_view_count": null,
            "flex_flow": null,
            "width": null,
            "min_width": null,
            "border": null,
            "align_items": null,
            "bottom": null,
            "_model_module": "@jupyter-widgets/base",
            "top": null,
            "grid_column": null,
            "overflow_y": null,
            "overflow_x": null,
            "grid_auto_flow": null,
            "grid_area": null,
            "grid_template_columns": null,
            "flex": null,
            "_model_name": "LayoutModel",
            "justify_items": null,
            "grid_row": null,
            "max_height": null,
            "align_content": null,
            "visibility": null,
            "align_self": null,
            "height": null,
            "min_height": null,
            "padding": null,
            "grid_auto_rows": null,
            "grid_gap": null,
            "max_width": null,
            "order": null,
            "_view_module_version": "1.2.0",
            "grid_template_areas": null,
            "object_position": null,
            "object_fit": null,
            "grid_auto_columns": null,
            "margin": null,
            "display": null,
            "left": null
          }
        },
        "b5e7c514a9cc453798b8850cd3c2ddce": {
          "model_module": "@jupyter-widgets/controls",
          "model_name": "HTMLModel",
          "state": {
            "_view_name": "HTMLView",
            "style": "IPY_MODEL_efeac629a7e547ebb39a6343d8f3ac63",
            "_dom_classes": [],
            "description": "",
            "_model_name": "HTMLModel",
            "placeholder": "​",
            "_view_module": "@jupyter-widgets/controls",
            "_model_module_version": "1.5.0",
            "value": "100%",
            "_view_count": null,
            "_view_module_version": "1.5.0",
            "description_tooltip": null,
            "_model_module": "@jupyter-widgets/controls",
            "layout": "IPY_MODEL_14eda1d753ff43e8a75e4d32638fc933"
          }
        },
        "04b9349c57dd4aea86b12458f2ec0a82": {
          "model_module": "@jupyter-widgets/controls",
          "model_name": "FloatProgressModel",
          "state": {
            "_view_name": "ProgressView",
            "style": "IPY_MODEL_c943b8da6b0041439532d364ad3cd7bf",
            "_dom_classes": [],
            "description": "",
            "_model_name": "FloatProgressModel",
            "bar_style": "success",
            "max": 13,
            "_view_module": "@jupyter-widgets/controls",
            "_model_module_version": "1.5.0",
            "value": 13,
            "_view_count": null,
            "_view_module_version": "1.5.0",
            "orientation": "horizontal",
            "min": 0,
            "description_tooltip": null,
            "_model_module": "@jupyter-widgets/controls",
            "layout": "IPY_MODEL_af70998e41084a249bc49a3b7c1abb3e"
          }
        },
        "0ee2aac688d04a3783dc2df6ccbd4d5b": {
          "model_module": "@jupyter-widgets/controls",
          "model_name": "HTMLModel",
          "state": {
            "_view_name": "HTMLView",
            "style": "IPY_MODEL_76e98bffd19d4cb08054a66ab2c91b8a",
            "_dom_classes": [],
            "description": "",
            "_model_name": "HTMLModel",
            "placeholder": "​",
            "_view_module": "@jupyter-widgets/controls",
            "_model_module_version": "1.5.0",
            "value": " 13/13 [00:03&lt;00:00,  4.27it/s]",
            "_view_count": null,
            "_view_module_version": "1.5.0",
            "description_tooltip": null,
            "_model_module": "@jupyter-widgets/controls",
            "layout": "IPY_MODEL_b137500798d342318d54a252075b26f5"
          }
        },
        "efeac629a7e547ebb39a6343d8f3ac63": {
          "model_module": "@jupyter-widgets/controls",
          "model_name": "DescriptionStyleModel",
          "state": {
            "_view_name": "StyleView",
            "_model_name": "DescriptionStyleModel",
            "description_width": "",
            "_view_module": "@jupyter-widgets/base",
            "_model_module_version": "1.5.0",
            "_view_count": null,
            "_view_module_version": "1.2.0",
            "_model_module": "@jupyter-widgets/controls"
          }
        },
        "14eda1d753ff43e8a75e4d32638fc933": {
          "model_module": "@jupyter-widgets/base",
          "model_name": "LayoutModel",
          "state": {
            "_view_name": "LayoutView",
            "grid_template_rows": null,
            "right": null,
            "justify_content": null,
            "_view_module": "@jupyter-widgets/base",
            "overflow": null,
            "_model_module_version": "1.2.0",
            "_view_count": null,
            "flex_flow": null,
            "width": null,
            "min_width": null,
            "border": null,
            "align_items": null,
            "bottom": null,
            "_model_module": "@jupyter-widgets/base",
            "top": null,
            "grid_column": null,
            "overflow_y": null,
            "overflow_x": null,
            "grid_auto_flow": null,
            "grid_area": null,
            "grid_template_columns": null,
            "flex": null,
            "_model_name": "LayoutModel",
            "justify_items": null,
            "grid_row": null,
            "max_height": null,
            "align_content": null,
            "visibility": null,
            "align_self": null,
            "height": null,
            "min_height": null,
            "padding": null,
            "grid_auto_rows": null,
            "grid_gap": null,
            "max_width": null,
            "order": null,
            "_view_module_version": "1.2.0",
            "grid_template_areas": null,
            "object_position": null,
            "object_fit": null,
            "grid_auto_columns": null,
            "margin": null,
            "display": null,
            "left": null
          }
        },
        "c943b8da6b0041439532d364ad3cd7bf": {
          "model_module": "@jupyter-widgets/controls",
          "model_name": "ProgressStyleModel",
          "state": {
            "_view_name": "StyleView",
            "_model_name": "ProgressStyleModel",
            "description_width": "",
            "_view_module": "@jupyter-widgets/base",
            "_model_module_version": "1.5.0",
            "_view_count": null,
            "_view_module_version": "1.2.0",
            "bar_color": null,
            "_model_module": "@jupyter-widgets/controls"
          }
        },
        "af70998e41084a249bc49a3b7c1abb3e": {
          "model_module": "@jupyter-widgets/base",
          "model_name": "LayoutModel",
          "state": {
            "_view_name": "LayoutView",
            "grid_template_rows": null,
            "right": null,
            "justify_content": null,
            "_view_module": "@jupyter-widgets/base",
            "overflow": null,
            "_model_module_version": "1.2.0",
            "_view_count": null,
            "flex_flow": null,
            "width": null,
            "min_width": null,
            "border": null,
            "align_items": null,
            "bottom": null,
            "_model_module": "@jupyter-widgets/base",
            "top": null,
            "grid_column": null,
            "overflow_y": null,
            "overflow_x": null,
            "grid_auto_flow": null,
            "grid_area": null,
            "grid_template_columns": null,
            "flex": null,
            "_model_name": "LayoutModel",
            "justify_items": null,
            "grid_row": null,
            "max_height": null,
            "align_content": null,
            "visibility": null,
            "align_self": null,
            "height": null,
            "min_height": null,
            "padding": null,
            "grid_auto_rows": null,
            "grid_gap": null,
            "max_width": null,
            "order": null,
            "_view_module_version": "1.2.0",
            "grid_template_areas": null,
            "object_position": null,
            "object_fit": null,
            "grid_auto_columns": null,
            "margin": null,
            "display": null,
            "left": null
          }
        },
        "76e98bffd19d4cb08054a66ab2c91b8a": {
          "model_module": "@jupyter-widgets/controls",
          "model_name": "DescriptionStyleModel",
          "state": {
            "_view_name": "StyleView",
            "_model_name": "DescriptionStyleModel",
            "description_width": "",
            "_view_module": "@jupyter-widgets/base",
            "_model_module_version": "1.5.0",
            "_view_count": null,
            "_view_module_version": "1.2.0",
            "_model_module": "@jupyter-widgets/controls"
          }
        },
        "b137500798d342318d54a252075b26f5": {
          "model_module": "@jupyter-widgets/base",
          "model_name": "LayoutModel",
          "state": {
            "_view_name": "LayoutView",
            "grid_template_rows": null,
            "right": null,
            "justify_content": null,
            "_view_module": "@jupyter-widgets/base",
            "overflow": null,
            "_model_module_version": "1.2.0",
            "_view_count": null,
            "flex_flow": null,
            "width": null,
            "min_width": null,
            "border": null,
            "align_items": null,
            "bottom": null,
            "_model_module": "@jupyter-widgets/base",
            "top": null,
            "grid_column": null,
            "overflow_y": null,
            "overflow_x": null,
            "grid_auto_flow": null,
            "grid_area": null,
            "grid_template_columns": null,
            "flex": null,
            "_model_name": "LayoutModel",
            "justify_items": null,
            "grid_row": null,
            "max_height": null,
            "align_content": null,
            "visibility": null,
            "align_self": null,
            "height": null,
            "min_height": null,
            "padding": null,
            "grid_auto_rows": null,
            "grid_gap": null,
            "max_width": null,
            "order": null,
            "_view_module_version": "1.2.0",
            "grid_template_areas": null,
            "object_position": null,
            "object_fit": null,
            "grid_auto_columns": null,
            "margin": null,
            "display": null,
            "left": null
          }
        }
      }
    }
  },
  "cells": [
    {
      "cell_type": "markdown",
      "metadata": {
        "id": "view-in-github",
        "colab_type": "text"
      },
      "source": [
        "<a href=\"https://colab.research.google.com/github/imanhamid/selectionscan_NN/blob/master/objectlocalization_one_strong.ipynb\" target=\"_parent\"><img src=\"https://colab.research.google.com/assets/colab-badge.svg\" alt=\"Open In Colab\"/></a>"
      ]
    },
    {
      "cell_type": "markdown",
      "metadata": {
        "id": "qFQ-VeUmlz76"
      },
      "source": [
        "Install & import icevision (ignore commented line) & mount at your google drive (change directories if necessary)"
      ]
    },
    {
      "cell_type": "code",
      "metadata": {
        "id": "yMKJtsG-9rb_"
      },
      "source": [
        "#pip install git+git://github.com/airctic/icevision.git#egg=icevision[all] --upgrade\n",
        "!pip install icevision[all]"
      ],
      "execution_count": null,
      "outputs": []
    },
    {
      "cell_type": "code",
      "metadata": {
        "id": "LQgGvtLI9zdl"
      },
      "source": [
        "from icevision.all import *"
      ],
      "execution_count": 2,
      "outputs": []
    },
    {
      "cell_type": "code",
      "metadata": {
        "colab": {
          "base_uri": "https://localhost:8080/"
        },
        "id": "ROpshIcY92q2",
        "outputId": "4fa74d93-0a4a-44d1-eed5-a271a0ad1ff8"
      },
      "source": [
        "from google.colab import drive\n",
        "drive.mount('/content/gdrive', force_remount=True)\n",
        "root_dir = \"/content/gdrive/My Drive/\"\n",
        "base_dir = root_dir + 'fastai-v3/'"
      ],
      "execution_count": 3,
      "outputs": [
        {
          "output_type": "stream",
          "text": [
            "Mounted at /content/gdrive\n"
          ],
          "name": "stdout"
        }
      ]
    },
    {
      "cell_type": "code",
      "metadata": {
        "id": "xYklGe8EFVaM"
      },
      "source": [
        "import pandas as pd\n",
        "import numpy as np"
      ],
      "execution_count": 4,
      "outputs": []
    },
    {
      "cell_type": "markdown",
      "metadata": {
        "id": "75yqCRyum0I0"
      },
      "source": [
        "You should have access to the segmentation folder, but let me know if you don't."
      ]
    },
    {
      "cell_type": "code",
      "metadata": {
        "id": "EJaO-LnRHC48"
      },
      "source": [
        "path = Path(base_dir + 'data/segmentation/one-strong/')"
      ],
      "execution_count": 5,
      "outputs": []
    },
    {
      "cell_type": "markdown",
      "metadata": {
        "id": "XyTWVLYNmq-i"
      },
      "source": [
        "Specify directories. The \"images\" folder has the actual ancestry-painted images. The \"labels\" folder has the segmentation masks, which we don't really need for object localization (though we can, if we want to use  [MaskRCNN](https://airctic.com/mask_rcnn_pennfudan/) which is segmentation + object localization).\n",
        "\n",
        "\n"
      ]
    },
    {
      "cell_type": "code",
      "metadata": {
        "id": "XREb4ae3HDnp"
      },
      "source": [
        "path_lbl = path/'labels'\n",
        "path_img = path/'images'\n",
        "fnames = get_image_files(path_img)"
      ],
      "execution_count": 6,
      "outputs": []
    },
    {
      "cell_type": "markdown",
      "metadata": {
        "id": "xmSqXIErnaHT"
      },
      "source": [
        "Calculate bounding box vertices as 5 pixels +/- the variant position. Variant location (physical position) is taken from the image file name, and converted to pixel coordinates.\n",
        "\n",
        "Bbox is formated as \\[xmin, ymin, xmax, ymax], with indices started at 0 from the bottom left corner."
      ]
    },
    {
      "cell_type": "code",
      "metadata": {
        "id": "5jh7JQh4HJoF"
      },
      "source": [
        "pos = [int(re.search(\"pos-(.*)_seed\", str(i)).group(1)) for i in fnames]\n",
        "bbox_xmin = [math.ceil((i / 25e6) * 200) - 5 for i in pos]\n",
        "labl_bbox = [[i, 0, i + 11, 200] for i in bbox_xmin]\n",
        "image_id = [re.search(\"/images/(.*.png)\", str(i)).group(1) for i in fnames]"
      ],
      "execution_count": 8,
      "outputs": []
    },
    {
      "cell_type": "markdown",
      "metadata": {
        "id": "uIsE_rKMoOUB"
      },
      "source": [
        "Combine image filename, image width, image height, bbox, and source \\[which is the \"images\" directory] in dataframe (for input to icevision parser)."
      ]
    },
    {
      "cell_type": "code",
      "metadata": {
        "id": "P5Nkd3TLHPNz"
      },
      "source": [
        "df = pd.DataFrame(list(zip(image_id, [200] * len(image_id), [200] * len(image_id), labl_bbox, [str(path_img) for i in image_id])), \n",
        "               columns =['image_id', 'width', 'height', 'bbox', 'source']) "
      ],
      "execution_count": 9,
      "outputs": []
    },
    {
      "cell_type": "markdown",
      "metadata": {
        "id": "jzqcLD9_o-kv"
      },
      "source": [
        "Creat custom parser. I followed [this tutorial](https://airctic.com/custom_parser/) with some modifications."
      ]
    },
    {
      "cell_type": "code",
      "metadata": {
        "id": "D6poq8XRHTes"
      },
      "source": [
        "class VariantParser(parsers.Parser, parsers.FilepathMixin, parsers.LabelsMixin, parsers.BBoxesMixin):\n",
        "    pass"
      ],
      "execution_count": 10,
      "outputs": []
    },
    {
      "cell_type": "code",
      "metadata": {
        "id": "h2KHb6XVHoFe",
        "colab": {
          "base_uri": "https://localhost:8080/"
        },
        "outputId": "e00e25bf-f17f-4312-b161-be86495a8d9b"
      },
      "source": [
        "VariantParser.generate_template()"
      ],
      "execution_count": 11,
      "outputs": [
        {
          "output_type": "stream",
          "text": [
            "def __iter__(self) -> Any:\n",
            "def imageid(self, o) -> Hashable:\n",
            "def image_width_height(self, o) -> Tuple[int, int]:\n",
            "    return get_image_size(self.filepath(o))\n",
            "def filepath(self, o) -> Union[str, Path]:\n",
            "def bboxes(self, o) -> List[BBox]:\n",
            "def labels(self, o) -> List[int]:\n"
          ],
          "name": "stdout"
        }
      ]
    },
    {
      "cell_type": "code",
      "metadata": {
        "id": "kfk7e4ZvFY0M"
      },
      "source": [
        "class VariantParser(parsers.FasterRCNN, parsers.FilepathMixin, parsers.SizeMixin):\n",
        "    def __init__(self, df, source):\n",
        "        self.df = df\n",
        "        self.source = source\n",
        "\n",
        "    def __iter__(self):\n",
        "        yield from self.df.itertuples()\n",
        "\n",
        "    def __len__(self):\n",
        "        return len(self.df)\n",
        "\n",
        "    def imageid(self, o) -> Hashable:\n",
        "        return o.image_id\n",
        "\n",
        "    def filepath(self, o) -> Union[str, Path]:\n",
        "        return self.source / f\"{o.image_id}\"\n",
        "\n",
        "    def image_width_height(self, o) -> Tuple[int, int]:\n",
        "        return get_image_size(self.filepath(o))\n",
        "\n",
        "    def labels(self, o) -> List[int]:\n",
        "        return [1]\n",
        "\n",
        "    def bboxes(self, o) -> List[BBox]:\n",
        "        return [BBox.from_xyxy(*np.fromiter(o.bbox, dtype=\"int\"))]"
      ],
      "execution_count": 12,
      "outputs": []
    },
    {
      "cell_type": "markdown",
      "metadata": {
        "id": "v5_3vzq7pbw-"
      },
      "source": [
        "Create class map. This is necessary, even though there is only one class."
      ]
    },
    {
      "cell_type": "code",
      "metadata": {
        "id": "ADlHg2XoQM_H"
      },
      "source": [
        "class_map = ClassMap(['selected_variant'])"
      ],
      "execution_count": 13,
      "outputs": []
    },
    {
      "cell_type": "markdown",
      "metadata": {
        "id": "iVMXmrdSp9jZ"
      },
      "source": [
        "Split data to training and validation records. I set a random seed so we can be comparing with the same train/valid sets. 800 images in training set, 200 in validation set.\n",
        "\n",
        "This may take a couple minutes to run."
      ]
    },
    {
      "cell_type": "code",
      "metadata": {
        "id": "blhMpvDbMYtm",
        "colab": {
          "base_uri": "https://localhost:8080/",
          "height": 1000,
          "referenced_widgets": [
            "759ec3ec7a3c4675837701dfe150b3e3",
            "f0ec5906ccce4e1ba0609b0d80324f0d",
            "40d05f25de6e40b299ad924d18a655bc",
            "5dfd065e4b4d427caaf629584ab8cb7a",
            "5f18fb8c319647d58f4923769ea8af35",
            "a8887109c3514f39af1c43ca78194140",
            "d7d990cf7bda4fd1af3489803b26a1f7",
            "8e6c037442f4496da5d2c00d233a027e",
            "7e208c4dfd0742bcbc2a381e2373039e",
            "65182c294bf249c4980933367525435f",
            "3fafce69817b46c4bbc2f116503ed288"
          ]
        },
        "outputId": "0bb54046-a7fd-450f-bf22-1cd5a8413154"
      },
      "source": [
        "parser = VariantParser(df, path_img)\n",
        "train_rs, valid_rs = parser.parse(data_splitter=RandomSplitter([0.8, 0.2], seed=42))"
      ],
      "execution_count": 15,
      "outputs": [
        {
          "output_type": "display_data",
          "data": {
            "application/vnd.jupyter.widget-view+json": {
              "model_id": "759ec3ec7a3c4675837701dfe150b3e3",
              "version_minor": 0,
              "version_major": 2
            },
            "text/plain": [
              "  0%|          | 0/1000 [00:00<?, ?it/s]"
            ]
          },
          "metadata": {
            "tags": []
          }
        },
        {
          "output_type": "stream",
          "text": [
            "\u001b[1m\u001b[1mINFO    \u001b[0m\u001b[1m\u001b[0m - \u001b[1m\u001b[34m\u001b[1mAutofixing records\u001b[0m\u001b[1m\u001b[34m\u001b[0m\u001b[1m\u001b[0m | \u001b[36micevision.parsers.parser\u001b[0m:\u001b[36mparse\u001b[0m:\u001b[36m126\u001b[0m\n",
            "\u001b[38;2;31;111;139m\u001b[1m\u001b[1mAUTOFIX-START\u001b[0m\u001b[38;2;31;111;139m\u001b[1m\u001b[0m - \u001b[38;2;31;111;139m\u001b[1m️🔨  Autofixing record with imageid: 678  ️🔨\u001b[0m | \u001b[36micevision.core.record\u001b[0m:\u001b[36m_pre_replay\u001b[0m:\u001b[36m92\u001b[0m\n",
            "\u001b[32m\u001b[1mAUTOFIX-SUCCESS\u001b[0m\u001b[32m\u001b[0m - \u001b[32mClipping bbox xmax from 204 to image width 200 (Before: <BBox (xmin:193, ymin:0, xmax:204, ymax:200)>)\u001b[0m | \u001b[36micevision.core.bbox\u001b[0m:\u001b[36mautofix\u001b[0m:\u001b[36m79\u001b[0m\n",
            "\u001b[38;2;31;111;139m\u001b[1m\u001b[1mAUTOFIX-START\u001b[0m\u001b[38;2;31;111;139m\u001b[1m\u001b[0m - \u001b[38;2;31;111;139m\u001b[1m️🔨  Autofixing record with imageid: 687  ️🔨\u001b[0m | \u001b[36micevision.core.record\u001b[0m:\u001b[36m_pre_replay\u001b[0m:\u001b[36m92\u001b[0m\n",
            "\u001b[32m\u001b[1mAUTOFIX-SUCCESS\u001b[0m\u001b[32m\u001b[0m - \u001b[32mClipping bbox xmax from 206 to image width 200 (Before: <BBox (xmin:195, ymin:0, xmax:206, ymax:200)>)\u001b[0m | \u001b[36micevision.core.bbox\u001b[0m:\u001b[36mautofix\u001b[0m:\u001b[36m79\u001b[0m\n",
            "\u001b[38;2;31;111;139m\u001b[1m\u001b[1mAUTOFIX-START\u001b[0m\u001b[38;2;31;111;139m\u001b[1m\u001b[0m - \u001b[38;2;31;111;139m\u001b[1m️🔨  Autofixing record with imageid: 692  ️🔨\u001b[0m | \u001b[36micevision.core.record\u001b[0m:\u001b[36m_pre_replay\u001b[0m:\u001b[36m92\u001b[0m\n",
            "\u001b[32m\u001b[1mAUTOFIX-SUCCESS\u001b[0m\u001b[32m\u001b[0m - \u001b[32mClipping bbox xmin from -3 to 0 (Before: <BBox (xmin:-3, ymin:0, xmax:8, ymax:200)>)\u001b[0m | \u001b[36micevision.core.bbox\u001b[0m:\u001b[36mautofix\u001b[0m:\u001b[36m65\u001b[0m\n",
            "\u001b[38;2;31;111;139m\u001b[1m\u001b[1mAUTOFIX-START\u001b[0m\u001b[38;2;31;111;139m\u001b[1m\u001b[0m - \u001b[38;2;31;111;139m\u001b[1m️🔨  Autofixing record with imageid: 662  ️🔨\u001b[0m | \u001b[36micevision.core.record\u001b[0m:\u001b[36m_pre_replay\u001b[0m:\u001b[36m92\u001b[0m\n",
            "\u001b[32m\u001b[1mAUTOFIX-SUCCESS\u001b[0m\u001b[32m\u001b[0m - \u001b[32mClipping bbox xmax from 201 to image width 200 (Before: <BBox (xmin:190, ymin:0, xmax:201, ymax:200)>)\u001b[0m | \u001b[36micevision.core.bbox\u001b[0m:\u001b[36mautofix\u001b[0m:\u001b[36m79\u001b[0m\n",
            "\u001b[38;2;31;111;139m\u001b[1m\u001b[1mAUTOFIX-START\u001b[0m\u001b[38;2;31;111;139m\u001b[1m\u001b[0m - \u001b[38;2;31;111;139m\u001b[1m️🔨  Autofixing record with imageid: 107  ️🔨\u001b[0m | \u001b[36micevision.core.record\u001b[0m:\u001b[36m_pre_replay\u001b[0m:\u001b[36m92\u001b[0m\n",
            "\u001b[32m\u001b[1mAUTOFIX-SUCCESS\u001b[0m\u001b[32m\u001b[0m - \u001b[32mClipping bbox xmin from -4 to 0 (Before: <BBox (xmin:-4, ymin:0, xmax:7, ymax:200)>)\u001b[0m | \u001b[36micevision.core.bbox\u001b[0m:\u001b[36mautofix\u001b[0m:\u001b[36m65\u001b[0m\n",
            "\u001b[38;2;31;111;139m\u001b[1m\u001b[1mAUTOFIX-START\u001b[0m\u001b[38;2;31;111;139m\u001b[1m\u001b[0m - \u001b[38;2;31;111;139m\u001b[1m️🔨  Autofixing record with imageid: 652  ️🔨\u001b[0m | \u001b[36micevision.core.record\u001b[0m:\u001b[36m_pre_replay\u001b[0m:\u001b[36m92\u001b[0m\n",
            "\u001b[32m\u001b[1mAUTOFIX-SUCCESS\u001b[0m\u001b[32m\u001b[0m - \u001b[32mClipping bbox xmin from -3 to 0 (Before: <BBox (xmin:-3, ymin:0, xmax:8, ymax:200)>)\u001b[0m | \u001b[36micevision.core.bbox\u001b[0m:\u001b[36mautofix\u001b[0m:\u001b[36m65\u001b[0m\n",
            "\u001b[38;2;31;111;139m\u001b[1m\u001b[1mAUTOFIX-START\u001b[0m\u001b[38;2;31;111;139m\u001b[1m\u001b[0m - \u001b[38;2;31;111;139m\u001b[1m️🔨  Autofixing record with imageid: 679  ️🔨\u001b[0m | \u001b[36micevision.core.record\u001b[0m:\u001b[36m_pre_replay\u001b[0m:\u001b[36m92\u001b[0m\n",
            "\u001b[32m\u001b[1mAUTOFIX-SUCCESS\u001b[0m\u001b[32m\u001b[0m - \u001b[32mClipping bbox xmax from 205 to image width 200 (Before: <BBox (xmin:194, ymin:0, xmax:205, ymax:200)>)\u001b[0m | \u001b[36micevision.core.bbox\u001b[0m:\u001b[36mautofix\u001b[0m:\u001b[36m79\u001b[0m\n",
            "\u001b[38;2;31;111;139m\u001b[1m\u001b[1mAUTOFIX-START\u001b[0m\u001b[38;2;31;111;139m\u001b[1m\u001b[0m - \u001b[38;2;31;111;139m\u001b[1m️🔨  Autofixing record with imageid: 936  ️🔨\u001b[0m | \u001b[36micevision.core.record\u001b[0m:\u001b[36m_pre_replay\u001b[0m:\u001b[36m92\u001b[0m\n",
            "\u001b[32m\u001b[1mAUTOFIX-SUCCESS\u001b[0m\u001b[32m\u001b[0m - \u001b[32mClipping bbox xmin from -4 to 0 (Before: <BBox (xmin:-4, ymin:0, xmax:7, ymax:200)>)\u001b[0m | \u001b[36micevision.core.bbox\u001b[0m:\u001b[36mautofix\u001b[0m:\u001b[36m65\u001b[0m\n",
            "\u001b[38;2;31;111;139m\u001b[1m\u001b[1mAUTOFIX-START\u001b[0m\u001b[38;2;31;111;139m\u001b[1m\u001b[0m - \u001b[38;2;31;111;139m\u001b[1m️🔨  Autofixing record with imageid: 247  ️🔨\u001b[0m | \u001b[36micevision.core.record\u001b[0m:\u001b[36m_pre_replay\u001b[0m:\u001b[36m92\u001b[0m\n",
            "\u001b[32m\u001b[1mAUTOFIX-SUCCESS\u001b[0m\u001b[32m\u001b[0m - \u001b[32mClipping bbox xmin from -3 to 0 (Before: <BBox (xmin:-3, ymin:0, xmax:8, ymax:200)>)\u001b[0m | \u001b[36micevision.core.bbox\u001b[0m:\u001b[36mautofix\u001b[0m:\u001b[36m65\u001b[0m\n",
            "\u001b[38;2;31;111;139m\u001b[1m\u001b[1mAUTOFIX-START\u001b[0m\u001b[38;2;31;111;139m\u001b[1m\u001b[0m - \u001b[38;2;31;111;139m\u001b[1m️🔨  Autofixing record with imageid: 668  ️🔨\u001b[0m | \u001b[36micevision.core.record\u001b[0m:\u001b[36m_pre_replay\u001b[0m:\u001b[36m92\u001b[0m\n",
            "\u001b[32m\u001b[1mAUTOFIX-SUCCESS\u001b[0m\u001b[32m\u001b[0m - \u001b[32mClipping bbox xmax from 203 to image width 200 (Before: <BBox (xmin:192, ymin:0, xmax:203, ymax:200)>)\u001b[0m | \u001b[36micevision.core.bbox\u001b[0m:\u001b[36mautofix\u001b[0m:\u001b[36m79\u001b[0m\n",
            "\u001b[38;2;31;111;139m\u001b[1m\u001b[1mAUTOFIX-START\u001b[0m\u001b[38;2;31;111;139m\u001b[1m\u001b[0m - \u001b[38;2;31;111;139m\u001b[1m️🔨  Autofixing record with imageid: 689  ️🔨\u001b[0m | \u001b[36micevision.core.record\u001b[0m:\u001b[36m_pre_replay\u001b[0m:\u001b[36m92\u001b[0m\n",
            "\u001b[32m\u001b[1mAUTOFIX-SUCCESS\u001b[0m\u001b[32m\u001b[0m - \u001b[32mClipping bbox xmax from 206 to image width 200 (Before: <BBox (xmin:195, ymin:0, xmax:206, ymax:200)>)\u001b[0m | \u001b[36micevision.core.bbox\u001b[0m:\u001b[36mautofix\u001b[0m:\u001b[36m79\u001b[0m\n",
            "\u001b[38;2;31;111;139m\u001b[1m\u001b[1mAUTOFIX-START\u001b[0m\u001b[38;2;31;111;139m\u001b[1m\u001b[0m - \u001b[38;2;31;111;139m\u001b[1m️🔨  Autofixing record with imageid: 677  ️🔨\u001b[0m | \u001b[36micevision.core.record\u001b[0m:\u001b[36m_pre_replay\u001b[0m:\u001b[36m92\u001b[0m\n",
            "\u001b[32m\u001b[1mAUTOFIX-SUCCESS\u001b[0m\u001b[32m\u001b[0m - \u001b[32mClipping bbox xmax from 204 to image width 200 (Before: <BBox (xmin:193, ymin:0, xmax:204, ymax:200)>)\u001b[0m | \u001b[36micevision.core.bbox\u001b[0m:\u001b[36mautofix\u001b[0m:\u001b[36m79\u001b[0m\n",
            "\u001b[38;2;31;111;139m\u001b[1m\u001b[1mAUTOFIX-START\u001b[0m\u001b[38;2;31;111;139m\u001b[1m\u001b[0m - \u001b[38;2;31;111;139m\u001b[1m️🔨  Autofixing record with imageid: 670  ️🔨\u001b[0m | \u001b[36micevision.core.record\u001b[0m:\u001b[36m_pre_replay\u001b[0m:\u001b[36m92\u001b[0m\n",
            "\u001b[32m\u001b[1mAUTOFIX-SUCCESS\u001b[0m\u001b[32m\u001b[0m - \u001b[32mClipping bbox xmax from 203 to image width 200 (Before: <BBox (xmin:192, ymin:0, xmax:203, ymax:200)>)\u001b[0m | \u001b[36micevision.core.bbox\u001b[0m:\u001b[36mautofix\u001b[0m:\u001b[36m79\u001b[0m\n",
            "\u001b[38;2;31;111;139m\u001b[1m\u001b[1mAUTOFIX-START\u001b[0m\u001b[38;2;31;111;139m\u001b[1m\u001b[0m - \u001b[38;2;31;111;139m\u001b[1m️🔨  Autofixing record with imageid: 695  ️🔨\u001b[0m | \u001b[36micevision.core.record\u001b[0m:\u001b[36m_pre_replay\u001b[0m:\u001b[36m92\u001b[0m\n",
            "\u001b[32m\u001b[1mAUTOFIX-SUCCESS\u001b[0m\u001b[32m\u001b[0m - \u001b[32mClipping bbox xmin from -2 to 0 (Before: <BBox (xmin:-2, ymin:0, xmax:9, ymax:200)>)\u001b[0m | \u001b[36micevision.core.bbox\u001b[0m:\u001b[36mautofix\u001b[0m:\u001b[36m65\u001b[0m\n",
            "\u001b[38;2;31;111;139m\u001b[1m\u001b[1mAUTOFIX-START\u001b[0m\u001b[38;2;31;111;139m\u001b[1m\u001b[0m - \u001b[38;2;31;111;139m\u001b[1m️🔨  Autofixing record with imageid: 664  ️🔨\u001b[0m | \u001b[36micevision.core.record\u001b[0m:\u001b[36m_pre_replay\u001b[0m:\u001b[36m92\u001b[0m\n",
            "\u001b[32m\u001b[1mAUTOFIX-SUCCESS\u001b[0m\u001b[32m\u001b[0m - \u001b[32mClipping bbox xmax from 202 to image width 200 (Before: <BBox (xmin:191, ymin:0, xmax:202, ymax:200)>)\u001b[0m | \u001b[36micevision.core.bbox\u001b[0m:\u001b[36mautofix\u001b[0m:\u001b[36m79\u001b[0m\n",
            "\u001b[38;2;31;111;139m\u001b[1m\u001b[1mAUTOFIX-START\u001b[0m\u001b[38;2;31;111;139m\u001b[1m\u001b[0m - \u001b[38;2;31;111;139m\u001b[1m️🔨  Autofixing record with imageid: 453  ️🔨\u001b[0m | \u001b[36micevision.core.record\u001b[0m:\u001b[36m_pre_replay\u001b[0m:\u001b[36m92\u001b[0m\n",
            "\u001b[32m\u001b[1mAUTOFIX-SUCCESS\u001b[0m\u001b[32m\u001b[0m - \u001b[32mClipping bbox xmin from -3 to 0 (Before: <BBox (xmin:-3, ymin:0, xmax:8, ymax:200)>)\u001b[0m | \u001b[36micevision.core.bbox\u001b[0m:\u001b[36mautofix\u001b[0m:\u001b[36m65\u001b[0m\n",
            "\u001b[38;2;31;111;139m\u001b[1m\u001b[1mAUTOFIX-START\u001b[0m\u001b[38;2;31;111;139m\u001b[1m\u001b[0m - \u001b[38;2;31;111;139m\u001b[1m️🔨  Autofixing record with imageid: 792  ️🔨\u001b[0m | \u001b[36micevision.core.record\u001b[0m:\u001b[36m_pre_replay\u001b[0m:\u001b[36m92\u001b[0m\n",
            "\u001b[32m\u001b[1mAUTOFIX-SUCCESS\u001b[0m\u001b[32m\u001b[0m - \u001b[32mClipping bbox xmin from -1 to 0 (Before: <BBox (xmin:-1, ymin:0, xmax:10, ymax:200)>)\u001b[0m | \u001b[36micevision.core.bbox\u001b[0m:\u001b[36mautofix\u001b[0m:\u001b[36m65\u001b[0m\n",
            "\u001b[38;2;31;111;139m\u001b[1m\u001b[1mAUTOFIX-START\u001b[0m\u001b[38;2;31;111;139m\u001b[1m\u001b[0m - \u001b[38;2;31;111;139m\u001b[1m️🔨  Autofixing record with imageid: 757  ️🔨\u001b[0m | \u001b[36micevision.core.record\u001b[0m:\u001b[36m_pre_replay\u001b[0m:\u001b[36m92\u001b[0m\n",
            "\u001b[32m\u001b[1mAUTOFIX-SUCCESS\u001b[0m\u001b[32m\u001b[0m - \u001b[32mClipping bbox xmin from -1 to 0 (Before: <BBox (xmin:-1, ymin:0, xmax:10, ymax:200)>)\u001b[0m | \u001b[36micevision.core.bbox\u001b[0m:\u001b[36mautofix\u001b[0m:\u001b[36m65\u001b[0m\n",
            "\u001b[38;2;31;111;139m\u001b[1m\u001b[1mAUTOFIX-START\u001b[0m\u001b[38;2;31;111;139m\u001b[1m\u001b[0m - \u001b[38;2;31;111;139m\u001b[1m️🔨  Autofixing record with imageid: 618  ️🔨\u001b[0m | \u001b[36micevision.core.record\u001b[0m:\u001b[36m_pre_replay\u001b[0m:\u001b[36m92\u001b[0m\n",
            "\u001b[32m\u001b[1mAUTOFIX-SUCCESS\u001b[0m\u001b[32m\u001b[0m - \u001b[32mClipping bbox xmin from -3 to 0 (Before: <BBox (xmin:-3, ymin:0, xmax:8, ymax:200)>)\u001b[0m | \u001b[36micevision.core.bbox\u001b[0m:\u001b[36mautofix\u001b[0m:\u001b[36m65\u001b[0m\n",
            "\u001b[38;2;31;111;139m\u001b[1m\u001b[1mAUTOFIX-START\u001b[0m\u001b[38;2;31;111;139m\u001b[1m\u001b[0m - \u001b[38;2;31;111;139m\u001b[1m️🔨  Autofixing record with imageid: 682  ️🔨\u001b[0m | \u001b[36micevision.core.record\u001b[0m:\u001b[36m_pre_replay\u001b[0m:\u001b[36m92\u001b[0m\n",
            "\u001b[32m\u001b[1mAUTOFIX-SUCCESS\u001b[0m\u001b[32m\u001b[0m - \u001b[32mClipping bbox xmax from 205 to image width 200 (Before: <BBox (xmin:194, ymin:0, xmax:205, ymax:200)>)\u001b[0m | \u001b[36micevision.core.bbox\u001b[0m:\u001b[36mautofix\u001b[0m:\u001b[36m79\u001b[0m\n",
            "\u001b[38;2;31;111;139m\u001b[1m\u001b[1mAUTOFIX-START\u001b[0m\u001b[38;2;31;111;139m\u001b[1m\u001b[0m - \u001b[38;2;31;111;139m\u001b[1m️🔨  Autofixing record with imageid: 673  ️🔨\u001b[0m | \u001b[36micevision.core.record\u001b[0m:\u001b[36m_pre_replay\u001b[0m:\u001b[36m92\u001b[0m\n",
            "\u001b[32m\u001b[1mAUTOFIX-SUCCESS\u001b[0m\u001b[32m\u001b[0m - \u001b[32mClipping bbox xmax from 203 to image width 200 (Before: <BBox (xmin:192, ymin:0, xmax:203, ymax:200)>)\u001b[0m | \u001b[36micevision.core.bbox\u001b[0m:\u001b[36mautofix\u001b[0m:\u001b[36m79\u001b[0m\n",
            "\u001b[38;2;31;111;139m\u001b[1m\u001b[1mAUTOFIX-START\u001b[0m\u001b[38;2;31;111;139m\u001b[1m\u001b[0m - \u001b[38;2;31;111;139m\u001b[1m️🔨  Autofixing record with imageid: 669  ️🔨\u001b[0m | \u001b[36micevision.core.record\u001b[0m:\u001b[36m_pre_replay\u001b[0m:\u001b[36m92\u001b[0m\n",
            "\u001b[32m\u001b[1mAUTOFIX-SUCCESS\u001b[0m\u001b[32m\u001b[0m - \u001b[32mClipping bbox xmax from 203 to image width 200 (Before: <BBox (xmin:192, ymin:0, xmax:203, ymax:200)>)\u001b[0m | \u001b[36micevision.core.bbox\u001b[0m:\u001b[36mautofix\u001b[0m:\u001b[36m79\u001b[0m\n",
            "\u001b[38;2;31;111;139m\u001b[1m\u001b[1mAUTOFIX-START\u001b[0m\u001b[38;2;31;111;139m\u001b[1m\u001b[0m - \u001b[38;2;31;111;139m\u001b[1m️🔨  Autofixing record with imageid: 961  ️🔨\u001b[0m | \u001b[36micevision.core.record\u001b[0m:\u001b[36m_pre_replay\u001b[0m:\u001b[36m92\u001b[0m\n",
            "\u001b[32m\u001b[1mAUTOFIX-SUCCESS\u001b[0m\u001b[32m\u001b[0m - \u001b[32mClipping bbox xmin from -4 to 0 (Before: <BBox (xmin:-4, ymin:0, xmax:7, ymax:200)>)\u001b[0m | \u001b[36micevision.core.bbox\u001b[0m:\u001b[36mautofix\u001b[0m:\u001b[36m65\u001b[0m\n",
            "\u001b[38;2;31;111;139m\u001b[1m\u001b[1mAUTOFIX-START\u001b[0m\u001b[38;2;31;111;139m\u001b[1m\u001b[0m - \u001b[38;2;31;111;139m\u001b[1m️🔨  Autofixing record with imageid: 680  ️🔨\u001b[0m | \u001b[36micevision.core.record\u001b[0m:\u001b[36m_pre_replay\u001b[0m:\u001b[36m92\u001b[0m\n",
            "\u001b[32m\u001b[1mAUTOFIX-SUCCESS\u001b[0m\u001b[32m\u001b[0m - \u001b[32mClipping bbox xmax from 205 to image width 200 (Before: <BBox (xmin:194, ymin:0, xmax:205, ymax:200)>)\u001b[0m | \u001b[36micevision.core.bbox\u001b[0m:\u001b[36mautofix\u001b[0m:\u001b[36m79\u001b[0m\n",
            "\u001b[38;2;31;111;139m\u001b[1m\u001b[1mAUTOFIX-START\u001b[0m\u001b[38;2;31;111;139m\u001b[1m\u001b[0m - \u001b[38;2;31;111;139m\u001b[1m️🔨  Autofixing record with imageid: 793  ️🔨\u001b[0m | \u001b[36micevision.core.record\u001b[0m:\u001b[36m_pre_replay\u001b[0m:\u001b[36m92\u001b[0m\n",
            "\u001b[32m\u001b[1mAUTOFIX-SUCCESS\u001b[0m\u001b[32m\u001b[0m - \u001b[32mClipping bbox xmin from -1 to 0 (Before: <BBox (xmin:-1, ymin:0, xmax:10, ymax:200)>)\u001b[0m | \u001b[36micevision.core.bbox\u001b[0m:\u001b[36mautofix\u001b[0m:\u001b[36m65\u001b[0m\n",
            "\u001b[38;2;31;111;139m\u001b[1m\u001b[1mAUTOFIX-START\u001b[0m\u001b[38;2;31;111;139m\u001b[1m\u001b[0m - \u001b[38;2;31;111;139m\u001b[1m️🔨  Autofixing record with imageid: 684  ️🔨\u001b[0m | \u001b[36micevision.core.record\u001b[0m:\u001b[36m_pre_replay\u001b[0m:\u001b[36m92\u001b[0m\n",
            "\u001b[32m\u001b[1mAUTOFIX-SUCCESS\u001b[0m\u001b[32m\u001b[0m - \u001b[32mClipping bbox xmax from 205 to image width 200 (Before: <BBox (xmin:194, ymin:0, xmax:205, ymax:200)>)\u001b[0m | \u001b[36micevision.core.bbox\u001b[0m:\u001b[36mautofix\u001b[0m:\u001b[36m79\u001b[0m\n",
            "\u001b[38;2;31;111;139m\u001b[1m\u001b[1mAUTOFIX-START\u001b[0m\u001b[38;2;31;111;139m\u001b[1m\u001b[0m - \u001b[38;2;31;111;139m\u001b[1m️🔨  Autofixing record with imageid: 758  ️🔨\u001b[0m | \u001b[36micevision.core.record\u001b[0m:\u001b[36m_pre_replay\u001b[0m:\u001b[36m92\u001b[0m\n",
            "\u001b[32m\u001b[1mAUTOFIX-SUCCESS\u001b[0m\u001b[32m\u001b[0m - \u001b[32mClipping bbox xmin from -1 to 0 (Before: <BBox (xmin:-1, ymin:0, xmax:10, ymax:200)>)\u001b[0m | \u001b[36micevision.core.bbox\u001b[0m:\u001b[36mautofix\u001b[0m:\u001b[36m65\u001b[0m\n",
            "\u001b[38;2;31;111;139m\u001b[1m\u001b[1mAUTOFIX-START\u001b[0m\u001b[38;2;31;111;139m\u001b[1m\u001b[0m - \u001b[38;2;31;111;139m\u001b[1m️🔨  Autofixing record with imageid: 666  ️🔨\u001b[0m | \u001b[36micevision.core.record\u001b[0m:\u001b[36m_pre_replay\u001b[0m:\u001b[36m92\u001b[0m\n",
            "\u001b[32m\u001b[1mAUTOFIX-SUCCESS\u001b[0m\u001b[32m\u001b[0m - \u001b[32mClipping bbox xmax from 202 to image width 200 (Before: <BBox (xmin:191, ymin:0, xmax:202, ymax:200)>)\u001b[0m | \u001b[36micevision.core.bbox\u001b[0m:\u001b[36mautofix\u001b[0m:\u001b[36m79\u001b[0m\n",
            "\u001b[38;2;31;111;139m\u001b[1m\u001b[1mAUTOFIX-START\u001b[0m\u001b[38;2;31;111;139m\u001b[1m\u001b[0m - \u001b[38;2;31;111;139m\u001b[1m️🔨  Autofixing record with imageid: 693  ️🔨\u001b[0m | \u001b[36micevision.core.record\u001b[0m:\u001b[36m_pre_replay\u001b[0m:\u001b[36m92\u001b[0m\n",
            "\u001b[32m\u001b[1mAUTOFIX-SUCCESS\u001b[0m\u001b[32m\u001b[0m - \u001b[32mClipping bbox xmax from 206 to image width 200 (Before: <BBox (xmin:195, ymin:0, xmax:206, ymax:200)>)\u001b[0m | \u001b[36micevision.core.bbox\u001b[0m:\u001b[36mautofix\u001b[0m:\u001b[36m79\u001b[0m\n",
            "\u001b[38;2;31;111;139m\u001b[1m\u001b[1mAUTOFIX-START\u001b[0m\u001b[38;2;31;111;139m\u001b[1m\u001b[0m - \u001b[38;2;31;111;139m\u001b[1m️🔨  Autofixing record with imageid: 675  ️🔨\u001b[0m | \u001b[36micevision.core.record\u001b[0m:\u001b[36m_pre_replay\u001b[0m:\u001b[36m92\u001b[0m\n",
            "\u001b[32m\u001b[1mAUTOFIX-SUCCESS\u001b[0m\u001b[32m\u001b[0m - \u001b[32mClipping bbox xmax from 204 to image width 200 (Before: <BBox (xmin:193, ymin:0, xmax:204, ymax:200)>)\u001b[0m | \u001b[36micevision.core.bbox\u001b[0m:\u001b[36mautofix\u001b[0m:\u001b[36m79\u001b[0m\n",
            "\u001b[38;2;31;111;139m\u001b[1m\u001b[1mAUTOFIX-START\u001b[0m\u001b[38;2;31;111;139m\u001b[1m\u001b[0m - \u001b[38;2;31;111;139m\u001b[1m️🔨  Autofixing record with imageid: 38  ️🔨\u001b[0m | \u001b[36micevision.core.record\u001b[0m:\u001b[36m_pre_replay\u001b[0m:\u001b[36m92\u001b[0m\n",
            "\u001b[32m\u001b[1mAUTOFIX-SUCCESS\u001b[0m\u001b[32m\u001b[0m - \u001b[32mClipping bbox xmin from -4 to 0 (Before: <BBox (xmin:-4, ymin:0, xmax:7, ymax:200)>)\u001b[0m | \u001b[36micevision.core.bbox\u001b[0m:\u001b[36mautofix\u001b[0m:\u001b[36m65\u001b[0m\n",
            "\u001b[38;2;31;111;139m\u001b[1m\u001b[1mAUTOFIX-START\u001b[0m\u001b[38;2;31;111;139m\u001b[1m\u001b[0m - \u001b[38;2;31;111;139m\u001b[1m️🔨  Autofixing record with imageid: 667  ️🔨\u001b[0m | \u001b[36micevision.core.record\u001b[0m:\u001b[36m_pre_replay\u001b[0m:\u001b[36m92\u001b[0m\n",
            "\u001b[32m\u001b[1mAUTOFIX-SUCCESS\u001b[0m\u001b[32m\u001b[0m - \u001b[32mClipping bbox xmax from 203 to image width 200 (Before: <BBox (xmin:192, ymin:0, xmax:203, ymax:200)>)\u001b[0m | \u001b[36micevision.core.bbox\u001b[0m:\u001b[36mautofix\u001b[0m:\u001b[36m79\u001b[0m\n",
            "\u001b[38;2;31;111;139m\u001b[1m\u001b[1mAUTOFIX-START\u001b[0m\u001b[38;2;31;111;139m\u001b[1m\u001b[0m - \u001b[38;2;31;111;139m\u001b[1m️🔨  Autofixing record with imageid: 754  ️🔨\u001b[0m | \u001b[36micevision.core.record\u001b[0m:\u001b[36m_pre_replay\u001b[0m:\u001b[36m92\u001b[0m\n",
            "\u001b[32m\u001b[1mAUTOFIX-SUCCESS\u001b[0m\u001b[32m\u001b[0m - \u001b[32mClipping bbox xmin from -1 to 0 (Before: <BBox (xmin:-1, ymin:0, xmax:10, ymax:200)>)\u001b[0m | \u001b[36micevision.core.bbox\u001b[0m:\u001b[36mautofix\u001b[0m:\u001b[36m65\u001b[0m\n",
            "\u001b[38;2;31;111;139m\u001b[1m\u001b[1mAUTOFIX-START\u001b[0m\u001b[38;2;31;111;139m\u001b[1m\u001b[0m - \u001b[38;2;31;111;139m\u001b[1m️🔨  Autofixing record with imageid: 759  ️🔨\u001b[0m | \u001b[36micevision.core.record\u001b[0m:\u001b[36m_pre_replay\u001b[0m:\u001b[36m92\u001b[0m\n",
            "\u001b[32m\u001b[1mAUTOFIX-SUCCESS\u001b[0m\u001b[32m\u001b[0m - \u001b[32mClipping bbox xmin from -1 to 0 (Before: <BBox (xmin:-1, ymin:0, xmax:10, ymax:200)>)\u001b[0m | \u001b[36micevision.core.bbox\u001b[0m:\u001b[36mautofix\u001b[0m:\u001b[36m65\u001b[0m\n",
            "\u001b[38;2;31;111;139m\u001b[1m\u001b[1mAUTOFIX-START\u001b[0m\u001b[38;2;31;111;139m\u001b[1m\u001b[0m - \u001b[38;2;31;111;139m\u001b[1m️🔨  Autofixing record with imageid: 685  ️🔨\u001b[0m | \u001b[36micevision.core.record\u001b[0m:\u001b[36m_pre_replay\u001b[0m:\u001b[36m92\u001b[0m\n",
            "\u001b[32m\u001b[1mAUTOFIX-SUCCESS\u001b[0m\u001b[32m\u001b[0m - \u001b[32mClipping bbox xmax from 205 to image width 200 (Before: <BBox (xmin:194, ymin:0, xmax:205, ymax:200)>)\u001b[0m | \u001b[36micevision.core.bbox\u001b[0m:\u001b[36mautofix\u001b[0m:\u001b[36m79\u001b[0m\n",
            "\u001b[38;2;31;111;139m\u001b[1m\u001b[1mAUTOFIX-START\u001b[0m\u001b[38;2;31;111;139m\u001b[1m\u001b[0m - \u001b[38;2;31;111;139m\u001b[1m️🔨  Autofixing record with imageid: 718  ️🔨\u001b[0m | \u001b[36micevision.core.record\u001b[0m:\u001b[36m_pre_replay\u001b[0m:\u001b[36m92\u001b[0m\n",
            "\u001b[32m\u001b[1mAUTOFIX-SUCCESS\u001b[0m\u001b[32m\u001b[0m - \u001b[32mClipping bbox xmin from -2 to 0 (Before: <BBox (xmin:-2, ymin:0, xmax:9, ymax:200)>)\u001b[0m | \u001b[36micevision.core.bbox\u001b[0m:\u001b[36mautofix\u001b[0m:\u001b[36m65\u001b[0m\n",
            "\u001b[38;2;31;111;139m\u001b[1m\u001b[1mAUTOFIX-START\u001b[0m\u001b[38;2;31;111;139m\u001b[1m\u001b[0m - \u001b[38;2;31;111;139m\u001b[1m️🔨  Autofixing record with imageid: 688  ️🔨\u001b[0m | \u001b[36micevision.core.record\u001b[0m:\u001b[36m_pre_replay\u001b[0m:\u001b[36m92\u001b[0m\n",
            "\u001b[32m\u001b[1mAUTOFIX-SUCCESS\u001b[0m\u001b[32m\u001b[0m - \u001b[32mClipping bbox xmax from 206 to image width 200 (Before: <BBox (xmin:195, ymin:0, xmax:206, ymax:200)>)\u001b[0m | \u001b[36micevision.core.bbox\u001b[0m:\u001b[36mautofix\u001b[0m:\u001b[36m79\u001b[0m\n",
            "\u001b[38;2;31;111;139m\u001b[1m\u001b[1mAUTOFIX-START\u001b[0m\u001b[38;2;31;111;139m\u001b[1m\u001b[0m - \u001b[38;2;31;111;139m\u001b[1m️🔨  Autofixing record with imageid: 672  ️🔨\u001b[0m | \u001b[36micevision.core.record\u001b[0m:\u001b[36m_pre_replay\u001b[0m:\u001b[36m92\u001b[0m\n",
            "\u001b[32m\u001b[1mAUTOFIX-SUCCESS\u001b[0m\u001b[32m\u001b[0m - \u001b[32mClipping bbox xmax from 203 to image width 200 (Before: <BBox (xmin:192, ymin:0, xmax:203, ymax:200)>)\u001b[0m | \u001b[36micevision.core.bbox\u001b[0m:\u001b[36mautofix\u001b[0m:\u001b[36m79\u001b[0m\n",
            "\u001b[38;2;31;111;139m\u001b[1m\u001b[1mAUTOFIX-START\u001b[0m\u001b[38;2;31;111;139m\u001b[1m\u001b[0m - \u001b[38;2;31;111;139m\u001b[1m️🔨  Autofixing record with imageid: 788  ️🔨\u001b[0m | \u001b[36micevision.core.record\u001b[0m:\u001b[36m_pre_replay\u001b[0m:\u001b[36m92\u001b[0m\n",
            "\u001b[32m\u001b[1mAUTOFIX-SUCCESS\u001b[0m\u001b[32m\u001b[0m - \u001b[32mClipping bbox xmin from -1 to 0 (Before: <BBox (xmin:-1, ymin:0, xmax:10, ymax:200)>)\u001b[0m | \u001b[36micevision.core.bbox\u001b[0m:\u001b[36mautofix\u001b[0m:\u001b[36m65\u001b[0m\n",
            "\u001b[38;2;31;111;139m\u001b[1m\u001b[1mAUTOFIX-START\u001b[0m\u001b[38;2;31;111;139m\u001b[1m\u001b[0m - \u001b[38;2;31;111;139m\u001b[1m️🔨  Autofixing record with imageid: 691  ️🔨\u001b[0m | \u001b[36micevision.core.record\u001b[0m:\u001b[36m_pre_replay\u001b[0m:\u001b[36m92\u001b[0m\n",
            "\u001b[32m\u001b[1mAUTOFIX-SUCCESS\u001b[0m\u001b[32m\u001b[0m - \u001b[32mClipping bbox xmax from 206 to image width 200 (Before: <BBox (xmin:195, ymin:0, xmax:206, ymax:200)>)\u001b[0m | \u001b[36micevision.core.bbox\u001b[0m:\u001b[36mautofix\u001b[0m:\u001b[36m79\u001b[0m\n",
            "\u001b[38;2;31;111;139m\u001b[1m\u001b[1mAUTOFIX-START\u001b[0m\u001b[38;2;31;111;139m\u001b[1m\u001b[0m - \u001b[38;2;31;111;139m\u001b[1m️🔨  Autofixing record with imageid: 671  ️🔨\u001b[0m | \u001b[36micevision.core.record\u001b[0m:\u001b[36m_pre_replay\u001b[0m:\u001b[36m92\u001b[0m\n",
            "\u001b[32m\u001b[1mAUTOFIX-SUCCESS\u001b[0m\u001b[32m\u001b[0m - \u001b[32mClipping bbox xmax from 203 to image width 200 (Before: <BBox (xmin:192, ymin:0, xmax:203, ymax:200)>)\u001b[0m | \u001b[36micevision.core.bbox\u001b[0m:\u001b[36mautofix\u001b[0m:\u001b[36m79\u001b[0m\n",
            "\u001b[38;2;31;111;139m\u001b[1m\u001b[1mAUTOFIX-START\u001b[0m\u001b[38;2;31;111;139m\u001b[1m\u001b[0m - \u001b[38;2;31;111;139m\u001b[1m️🔨  Autofixing record with imageid: 785  ️🔨\u001b[0m | \u001b[36micevision.core.record\u001b[0m:\u001b[36m_pre_replay\u001b[0m:\u001b[36m92\u001b[0m\n",
            "\u001b[32m\u001b[1mAUTOFIX-SUCCESS\u001b[0m\u001b[32m\u001b[0m - \u001b[32mClipping bbox xmin from -1 to 0 (Before: <BBox (xmin:-1, ymin:0, xmax:10, ymax:200)>)\u001b[0m | \u001b[36micevision.core.bbox\u001b[0m:\u001b[36mautofix\u001b[0m:\u001b[36m65\u001b[0m\n",
            "\u001b[38;2;31;111;139m\u001b[1m\u001b[1mAUTOFIX-START\u001b[0m\u001b[38;2;31;111;139m\u001b[1m\u001b[0m - \u001b[38;2;31;111;139m\u001b[1m️🔨  Autofixing record with imageid: 676  ️🔨\u001b[0m | \u001b[36micevision.core.record\u001b[0m:\u001b[36m_pre_replay\u001b[0m:\u001b[36m92\u001b[0m\n",
            "\u001b[32m\u001b[1mAUTOFIX-SUCCESS\u001b[0m\u001b[32m\u001b[0m - \u001b[32mClipping bbox xmax from 204 to image width 200 (Before: <BBox (xmin:193, ymin:0, xmax:204, ymax:200)>)\u001b[0m | \u001b[36micevision.core.bbox\u001b[0m:\u001b[36mautofix\u001b[0m:\u001b[36m79\u001b[0m\n",
            "\u001b[38;2;31;111;139m\u001b[1m\u001b[1mAUTOFIX-START\u001b[0m\u001b[38;2;31;111;139m\u001b[1m\u001b[0m - \u001b[38;2;31;111;139m\u001b[1m️🔨  Autofixing record with imageid: 698  ️🔨\u001b[0m | \u001b[36micevision.core.record\u001b[0m:\u001b[36m_pre_replay\u001b[0m:\u001b[36m92\u001b[0m\n",
            "\u001b[32m\u001b[1mAUTOFIX-SUCCESS\u001b[0m\u001b[32m\u001b[0m - \u001b[32mClipping bbox xmin from -2 to 0 (Before: <BBox (xmin:-2, ymin:0, xmax:9, ymax:200)>)\u001b[0m | \u001b[36micevision.core.bbox\u001b[0m:\u001b[36mautofix\u001b[0m:\u001b[36m65\u001b[0m\n",
            "\u001b[38;2;31;111;139m\u001b[1m\u001b[1mAUTOFIX-START\u001b[0m\u001b[38;2;31;111;139m\u001b[1m\u001b[0m - \u001b[38;2;31;111;139m\u001b[1m️🔨  Autofixing record with imageid: 690  ️🔨\u001b[0m | \u001b[36micevision.core.record\u001b[0m:\u001b[36m_pre_replay\u001b[0m:\u001b[36m92\u001b[0m\n",
            "\u001b[32m\u001b[1mAUTOFIX-SUCCESS\u001b[0m\u001b[32m\u001b[0m - \u001b[32mClipping bbox xmax from 206 to image width 200 (Before: <BBox (xmin:195, ymin:0, xmax:206, ymax:200)>)\u001b[0m | \u001b[36micevision.core.bbox\u001b[0m:\u001b[36mautofix\u001b[0m:\u001b[36m79\u001b[0m\n",
            "\u001b[38;2;31;111;139m\u001b[1m\u001b[1mAUTOFIX-START\u001b[0m\u001b[38;2;31;111;139m\u001b[1m\u001b[0m - \u001b[38;2;31;111;139m\u001b[1m️🔨  Autofixing record with imageid: 683  ️🔨\u001b[0m | \u001b[36micevision.core.record\u001b[0m:\u001b[36m_pre_replay\u001b[0m:\u001b[36m92\u001b[0m\n",
            "\u001b[32m\u001b[1mAUTOFIX-SUCCESS\u001b[0m\u001b[32m\u001b[0m - \u001b[32mClipping bbox xmax from 205 to image width 200 (Before: <BBox (xmin:194, ymin:0, xmax:205, ymax:200)>)\u001b[0m | \u001b[36micevision.core.bbox\u001b[0m:\u001b[36mautofix\u001b[0m:\u001b[36m79\u001b[0m\n",
            "\u001b[38;2;31;111;139m\u001b[1m\u001b[1mAUTOFIX-START\u001b[0m\u001b[38;2;31;111;139m\u001b[1m\u001b[0m - \u001b[38;2;31;111;139m\u001b[1m️🔨  Autofixing record with imageid: 674  ️🔨\u001b[0m | \u001b[36micevision.core.record\u001b[0m:\u001b[36m_pre_replay\u001b[0m:\u001b[36m92\u001b[0m\n",
            "\u001b[32m\u001b[1mAUTOFIX-SUCCESS\u001b[0m\u001b[32m\u001b[0m - \u001b[32mClipping bbox xmax from 203 to image width 200 (Before: <BBox (xmin:192, ymin:0, xmax:203, ymax:200)>)\u001b[0m | \u001b[36micevision.core.bbox\u001b[0m:\u001b[36mautofix\u001b[0m:\u001b[36m79\u001b[0m\n",
            "\u001b[38;2;31;111;139m\u001b[1m\u001b[1mAUTOFIX-START\u001b[0m\u001b[38;2;31;111;139m\u001b[1m\u001b[0m - \u001b[38;2;31;111;139m\u001b[1m️🔨  Autofixing record with imageid: 701  ️🔨\u001b[0m | \u001b[36micevision.core.record\u001b[0m:\u001b[36m_pre_replay\u001b[0m:\u001b[36m92\u001b[0m\n",
            "\u001b[32m\u001b[1mAUTOFIX-SUCCESS\u001b[0m\u001b[32m\u001b[0m - \u001b[32mClipping bbox xmin from -2 to 0 (Before: <BBox (xmin:-2, ymin:0, xmax:9, ymax:200)>)\u001b[0m | \u001b[36micevision.core.bbox\u001b[0m:\u001b[36mautofix\u001b[0m:\u001b[36m65\u001b[0m\n",
            "\u001b[38;2;31;111;139m\u001b[1m\u001b[1mAUTOFIX-START\u001b[0m\u001b[38;2;31;111;139m\u001b[1m\u001b[0m - \u001b[38;2;31;111;139m\u001b[1m️🔨  Autofixing record with imageid: 686  ️🔨\u001b[0m | \u001b[36micevision.core.record\u001b[0m:\u001b[36m_pre_replay\u001b[0m:\u001b[36m92\u001b[0m\n",
            "\u001b[32m\u001b[1mAUTOFIX-SUCCESS\u001b[0m\u001b[32m\u001b[0m - \u001b[32mClipping bbox xmax from 206 to image width 200 (Before: <BBox (xmin:195, ymin:0, xmax:206, ymax:200)>)\u001b[0m | \u001b[36micevision.core.bbox\u001b[0m:\u001b[36mautofix\u001b[0m:\u001b[36m79\u001b[0m\n",
            "\u001b[38;2;31;111;139m\u001b[1m\u001b[1mAUTOFIX-START\u001b[0m\u001b[38;2;31;111;139m\u001b[1m\u001b[0m - \u001b[38;2;31;111;139m\u001b[1m️🔨  Autofixing record with imageid: 681  ️🔨\u001b[0m | \u001b[36micevision.core.record\u001b[0m:\u001b[36m_pre_replay\u001b[0m:\u001b[36m92\u001b[0m\n",
            "\u001b[32m\u001b[1mAUTOFIX-SUCCESS\u001b[0m\u001b[32m\u001b[0m - \u001b[32mClipping bbox xmax from 205 to image width 200 (Before: <BBox (xmin:194, ymin:0, xmax:205, ymax:200)>)\u001b[0m | \u001b[36micevision.core.bbox\u001b[0m:\u001b[36mautofix\u001b[0m:\u001b[36m79\u001b[0m\n",
            "\u001b[38;2;31;111;139m\u001b[1m\u001b[1mAUTOFIX-START\u001b[0m\u001b[38;2;31;111;139m\u001b[1m\u001b[0m - \u001b[38;2;31;111;139m\u001b[1m️🔨  Autofixing record with imageid: 661  ️🔨\u001b[0m | \u001b[36micevision.core.record\u001b[0m:\u001b[36m_pre_replay\u001b[0m:\u001b[36m92\u001b[0m\n",
            "\u001b[32m\u001b[1mAUTOFIX-SUCCESS\u001b[0m\u001b[32m\u001b[0m - \u001b[32mClipping bbox xmax from 201 to image width 200 (Before: <BBox (xmin:190, ymin:0, xmax:201, ymax:200)>)\u001b[0m | \u001b[36micevision.core.bbox\u001b[0m:\u001b[36mautofix\u001b[0m:\u001b[36m79\u001b[0m\n",
            "\u001b[38;2;31;111;139m\u001b[1m\u001b[1mAUTOFIX-START\u001b[0m\u001b[38;2;31;111;139m\u001b[1m\u001b[0m - \u001b[38;2;31;111;139m\u001b[1m️🔨  Autofixing record with imageid: 663  ️🔨\u001b[0m | \u001b[36micevision.core.record\u001b[0m:\u001b[36m_pre_replay\u001b[0m:\u001b[36m92\u001b[0m\n",
            "\u001b[32m\u001b[1mAUTOFIX-SUCCESS\u001b[0m\u001b[32m\u001b[0m - \u001b[32mClipping bbox xmax from 202 to image width 200 (Before: <BBox (xmin:191, ymin:0, xmax:202, ymax:200)>)\u001b[0m | \u001b[36micevision.core.bbox\u001b[0m:\u001b[36mautofix\u001b[0m:\u001b[36m79\u001b[0m\n"
          ],
          "name": "stderr"
        }
      ]
    },
    {
      "cell_type": "markdown",
      "metadata": {
        "id": "bfbK9jcVrw-C"
      },
      "source": [
        "Make sure everything looks correct."
      ]
    },
    {
      "cell_type": "code",
      "metadata": {
        "colab": {
          "base_uri": "https://localhost:8080/",
          "height": 248
        },
        "id": "xeOXbzlaQE9Q",
        "outputId": "0c8386ef-c86a-4f47-b53a-f8234a82c666"
      },
      "source": [
        "show_record(train_rs[30], display_label=False)"
      ],
      "execution_count": 16,
      "outputs": [
        {
          "output_type": "display_data",
          "data": {
            "image/png": "[encoded data removed]",
            "text/plain": [
              "<Figure size 432x288 with 1 Axes>"
            ]
          },
          "metadata": {
            "tags": [],
            "needs_background": "light"
          }
        }
      ]
    },
    {
      "cell_type": "code",
      "metadata": {
        "colab": {
          "base_uri": "https://localhost:8080/"
        },
        "id": "xCweCI5Kr0vY",
        "outputId": "8b2a3693-1cf8-49ed-8a12-e6747e9039ec"
      },
      "source": [
        "len(train_rs), len(valid_rs)"
      ],
      "execution_count": 17,
      "outputs": [
        {
          "output_type": "execute_result",
          "data": {
            "text/plain": [
              "(800, 200)"
            ]
          },
          "metadata": {
            "tags": []
          },
          "execution_count": 17
        }
      ]
    },
    {
      "cell_type": "code",
      "metadata": {
        "id": "fW-FGzV_QbTW"
      },
      "source": [
        "train_ds = Dataset(train_rs)\n",
        "valid_ds = Dataset(valid_rs)"
      ],
      "execution_count": 18,
      "outputs": []
    },
    {
      "cell_type": "markdown",
      "metadata": {
        "id": "Adwm7ZvQr-Ma"
      },
      "source": [
        "Create dataloaders and define the model we're using ([FasterRCNN](https://airctic.com/model_faster_rcnn/), resnet18 architecture)"
      ]
    },
    {
      "cell_type": "code",
      "metadata": {
        "id": "q-jFGfKxRM1-"
      },
      "source": [
        "train_dl = faster_rcnn.train_dl(train_ds, batch_size=16, num_workers=4, shuffle=True)\n",
        "valid_dl = faster_rcnn.valid_dl(valid_ds, batch_size=16, num_workers=4, shuffle=False)"
      ],
      "execution_count": 19,
      "outputs": []
    },
    {
      "cell_type": "code",
      "metadata": {
        "id": "5Jh-8vhhRbjT",
        "colab": {
          "base_uri": "https://localhost:8080/",
          "height": 66,
          "referenced_widgets": [
            "20fbd9b86a1645d9be0152f6c64bfb99",
            "5e878ca076b143d7966566e8095ddc65",
            "f58b0a413a5b45c7a2f6b5cecab9c5ce",
            "b101c00cb59b48bf993f02f1c570c059",
            "1141d9fd94e2463b9f3bc18ff7588bf1",
            "b67160ce96df4d549533da5401c96cd6",
            "1c166e16f4844bdd822c89a350ac6968",
            "a94e7b4eca9b46779b73b5e7134a6a10",
            "f8e4db6b19eb4577add8815a504a5341",
            "f574c5d94c234ad2b9c6c44ce17b75d7",
            "5f2ccdfdd6f8478c9f3f62835b31296d"
          ]
        },
        "outputId": "17124eda-6074-436b-dfcd-dcc691294032"
      },
      "source": [
        "backbone = faster_rcnn.backbones.resnet_fpn.resnet18(pretrained=True)\n",
        "model = faster_rcnn.model(backbone=backbone, num_classes=len(class_map))"
      ],
      "execution_count": 20,
      "outputs": [
        {
          "output_type": "stream",
          "text": [
            "Downloading: \"https://download.pytorch.org/models/resnet18-5c106cde.pth\" to /root/.cache/torch/hub/checkpoints/resnet18-5c106cde.pth\n"
          ],
          "name": "stderr"
        },
        {
          "output_type": "display_data",
          "data": {
            "application/vnd.jupyter.widget-view+json": {
              "model_id": "20fbd9b86a1645d9be0152f6c64bfb99",
              "version_minor": 0,
              "version_major": 2
            },
            "text/plain": [
              "  0%|          | 0.00/44.7M [00:00<?, ?B/s]"
            ]
          },
          "metadata": {
            "tags": []
          }
        }
      ]
    },
    {
      "cell_type": "markdown",
      "metadata": {
        "id": "3isea9VEshub"
      },
      "source": [
        "Define custom metrics & wrap in Metric class\n",
        "\n",
        "* Center proportion (center_metric) = proportion of predicted bboxes that contain the selected variant. (should be close to 1)\n",
        "* Average width (width_metric) = average width of bboxes (should be ~11 pixels wide)\n",
        "* Number of boxes (num_bboxes) = average number of predicted bboxes per image (should be close to 1)\n",
        "\n"
      ]
    },
    {
      "cell_type": "code",
      "metadata": {
        "id": "c5J-VWT8W0qE"
      },
      "source": [
        "def center_metric(sample, pred):\n",
        "  bbox_pred = pred['bboxes']\n",
        "  if len(bbox_pred)>0:\n",
        "    bbox_xaxis_pred = [i.xyxy[0:3:2] for i in bbox_pred]\n",
        "    bbox_sample = sample['bboxes'][0]\n",
        "    bbox_xaxis_sample = bbox_sample.xyxy[0:3:2]\n",
        "    sample_midpoint = math.ceil((bbox_xaxis_sample[0] + bbox_xaxis_sample[1])/2)\n",
        "    center_in_bbox = [i[1] >= sample_midpoint >= i[0] for i in bbox_xaxis_pred]\n",
        "    center_accuracy_mean = np.mean(center_in_bbox)\n",
        "  else:\n",
        "    center_accuracy_mean = 0\n",
        "  return center_accuracy_mean\n",
        "\n",
        "def width_metric(pred):\n",
        "  bbox_pred = pred['bboxes']\n",
        "  if len(bbox_pred)>0:\n",
        "    bbox_xaxis_pred = [i.xyxy[0:3:2] for i in bbox_pred]\n",
        "    pred_width = [i[1] - i[0] for i in bbox_xaxis_pred]\n",
        "    pred_width_mean = np.mean(pred_width)\n",
        "  else:\n",
        "    pred_width_mean = None\n",
        "  return pred_width_mean\n",
        "  \n",
        "\n",
        "def num_bboxes(pred):\n",
        "  num_boxes = len(pred['bboxes'])\n",
        "  return num_boxes\n",
        "  "
      ],
      "execution_count": 21,
      "outputs": []
    },
    {
      "cell_type": "markdown",
      "metadata": {
        "id": "YO_nDP7MuWmr"
      },
      "source": [
        "For all metrics, the idea here is to calculate the metric for all validation records (200 images) and collect them by batches (accumulate), and average across all records at the end of each epoch (finalize). Then, the accumulated metrics need to be cleared at the end of each epoch so that they can be calculated anew the next cycle.\n",
        "\n",
        "For average widths: some records will have no predicted bboxes, so the average is not calculated for those values. That is, we calculate the average width only for those bboxes that are predicted. So the denominator may be more or less than the actual number of valiation records. This value will likely be None in the first epoch because no bboxes will be predicted."
      ]
    },
    {
      "cell_type": "code",
      "metadata": {
        "id": "LUiWe19NXJwe"
      },
      "source": [
        "class Center_Proportion(Metric):\n",
        "    def __init__(self):\n",
        "        self._props = []\n",
        "\n",
        "    def _reset(self):\n",
        "        self._props.clear()\n",
        "\n",
        "    def accumulate(self, records, preds):\n",
        "        center_results = [center_metric(sample, pred) for sample, pred in zip(records,preds)]\n",
        "        self._props.extend(center_results)\n",
        "\n",
        "    def finalize(self) -> Dict[str, float]:\n",
        "        final_prop = np.mean(self._props)\n",
        "        self._reset()\n",
        "        return {'Center_in_Bbox': final_prop}\n",
        "\n",
        "class Avg_Width(Metric):\n",
        "    def __init__(self):\n",
        "        self._widths = []\n",
        "\n",
        "    def _reset(self):\n",
        "        self._widths.clear()\n",
        "\n",
        "    def accumulate(self, records, preds):\n",
        "        width_results = [width_metric(pred) for pred in preds]\n",
        "        for i in width_results:\n",
        "          if i:\n",
        "            self._widths.append(i)\n",
        "          else:\n",
        "            pass\n",
        "\n",
        "    def finalize(self) -> Dict[str, float]:\n",
        "        if self._widths:\n",
        "          final_avg = np.mean(self._widths)\n",
        "        else:\n",
        "          final_avg = None\n",
        "        self._reset()\n",
        "        return {'Width_Bbox': final_avg}\n",
        "\n",
        "class Num_Bboxes(Metric):\n",
        "    def __init__(self):\n",
        "        self._num = []\n",
        "\n",
        "    def _reset(self):\n",
        "        self._num.clear()\n",
        "\n",
        "    def accumulate(self, records, preds):\n",
        "        num_boxes_results = [num_bboxes(pred) for pred in preds]\n",
        "        self._num.extend(num_boxes_results)\n",
        "\n",
        "    def finalize(self) -> Dict[str, float]:\n",
        "        final_num = np.mean(self._num)\n",
        "        self._reset()\n",
        "        return {'Num_Bbox': final_num}"
      ],
      "execution_count": 22,
      "outputs": []
    },
    {
      "cell_type": "markdown",
      "metadata": {
        "id": "xfzjkWx-vnqB"
      },
      "source": [
        "Define the fastai learner, specifying metrics. I included COCOMetric(), which is commonly used for bboxes. It is essentialy IoU.\n",
        "\n",
        "We could also use PyTorch Lightening instead of FastAI, but I'm sticking with FastAI since we're familiar with it."
      ]
    },
    {
      "cell_type": "code",
      "metadata": {
        "id": "7b7jH4TASgVg"
      },
      "source": [
        "metrics = [COCOMetric(), Num_Bboxes(), Center_Proportion(), Avg_Width()]\n",
        "learn = faster_rcnn.fastai.learner(\n",
        "    dls=[train_dl, valid_dl], model=model, metrics=metrics\n",
        ")"
      ],
      "execution_count": 24,
      "outputs": []
    },
    {
      "cell_type": "markdown",
      "metadata": {
        "id": "sJw0b76ewQr_"
      },
      "source": [
        "Keep in mind that metric values don't seem to match the true values when we export the model and infer/predict on our validation set. I'm still not clear why the numbers don't match.\n",
        "\n",
        "This will take ~10-15 min to train (may also depend on your network connection)."
      ]
    },
    {
      "cell_type": "code",
      "metadata": {
        "colab": {
          "base_uri": "https://localhost:8080/",
          "height": 1000
        },
        "id": "5EXYruYvXs1w",
        "outputId": "b3b8673c-045d-42c5-f35e-1425e0c0ff80"
      },
      "source": [
        "learn.fine_tune(30, base_lr=3e-3, freeze_epochs=1, wd=1e-2)"
      ],
      "execution_count": 91,
      "outputs": [
        {
          "output_type": "display_data",
          "data": {
            "text/html": [
              "<table border=\"1\" class=\"dataframe\">\n",
              "  <thead>\n",
              "    <tr style=\"text-align: left;\">\n",
              "      <th>epoch</th>\n",
              "      <th>train_loss</th>\n",
              "      <th>valid_loss</th>\n",
              "      <th>COCOMetric</th>\n",
              "      <th>Num_Bboxes</th>\n",
              "      <th>Center_Proportion</th>\n",
              "      <th>Avg_Width</th>\n",
              "      <th>time</th>\n",
              "    </tr>\n",
              "  </thead>\n",
              "  <tbody>\n",
              "    <tr>\n",
              "      <td>0</td>\n",
              "      <td>2.077626</td>\n",
              "      <td>2.045801</td>\n",
              "      <td>0.000000</td>\n",
              "      <td>2.160000</td>\n",
              "      <td>0.353995</td>\n",
              "      <td>58.30571</td>\n",
              "      <td>00:24</td>\n",
              "    </tr>\n",
              "  </tbody>\n",
              "</table>"
            ],
            "text/plain": [
              "<IPython.core.display.HTML object>"
            ]
          },
          "metadata": {
            "tags": []
          }
        },
        {
          "output_type": "display_data",
          "data": {
            "text/html": [
              "<table border=\"1\" class=\"dataframe\">\n",
              "  <thead>\n",
              "    <tr style=\"text-align: left;\">\n",
              "      <th>epoch</th>\n",
              "      <th>train_loss</th>\n",
              "      <th>valid_loss</th>\n",
              "      <th>COCOMetric</th>\n",
              "      <th>Num_Bboxes</th>\n",
              "      <th>Center_Proportion</th>\n",
              "      <th>Avg_Width</th>\n",
              "      <th>time</th>\n",
              "    </tr>\n",
              "  </thead>\n",
              "  <tbody>\n",
              "    <tr>\n",
              "      <td>0</td>\n",
              "      <td>0.685105</td>\n",
              "      <td>0.423369</td>\n",
              "      <td>0.046022</td>\n",
              "      <td>29.860000</td>\n",
              "      <td>0.067468</td>\n",
              "      <td>11.708782</td>\n",
              "      <td>00:36</td>\n",
              "    </tr>\n",
              "    <tr>\n",
              "      <td>1</td>\n",
              "      <td>0.422054</td>\n",
              "      <td>0.277054</td>\n",
              "      <td>0.058491</td>\n",
              "      <td>21.405000</td>\n",
              "      <td>0.117466</td>\n",
              "      <td>11.567344</td>\n",
              "      <td>00:35</td>\n",
              "    </tr>\n",
              "    <tr>\n",
              "      <td>2</td>\n",
              "      <td>0.301233</td>\n",
              "      <td>0.202329</td>\n",
              "      <td>0.124113</td>\n",
              "      <td>14.440000</td>\n",
              "      <td>0.264306</td>\n",
              "      <td>14.100574</td>\n",
              "      <td>00:36</td>\n",
              "    </tr>\n",
              "    <tr>\n",
              "      <td>3</td>\n",
              "      <td>0.235656</td>\n",
              "      <td>0.183725</td>\n",
              "      <td>0.161214</td>\n",
              "      <td>11.420000</td>\n",
              "      <td>0.313925</td>\n",
              "      <td>14.627693</td>\n",
              "      <td>00:36</td>\n",
              "    </tr>\n",
              "    <tr>\n",
              "      <td>4</td>\n",
              "      <td>0.191643</td>\n",
              "      <td>0.165079</td>\n",
              "      <td>0.212376</td>\n",
              "      <td>10.605000</td>\n",
              "      <td>0.336840</td>\n",
              "      <td>14.26706</td>\n",
              "      <td>00:35</td>\n",
              "    </tr>\n",
              "    <tr>\n",
              "      <td>5</td>\n",
              "      <td>0.173583</td>\n",
              "      <td>0.151716</td>\n",
              "      <td>0.243390</td>\n",
              "      <td>6.035000</td>\n",
              "      <td>0.410157</td>\n",
              "      <td>11.517007</td>\n",
              "      <td>00:35</td>\n",
              "    </tr>\n",
              "    <tr>\n",
              "      <td>6</td>\n",
              "      <td>0.166666</td>\n",
              "      <td>0.263770</td>\n",
              "      <td>0.218861</td>\n",
              "      <td>6.155000</td>\n",
              "      <td>0.465831</td>\n",
              "      <td>11.675685</td>\n",
              "      <td>00:35</td>\n",
              "    </tr>\n",
              "    <tr>\n",
              "      <td>7</td>\n",
              "      <td>0.160190</td>\n",
              "      <td>0.156304</td>\n",
              "      <td>0.303041</td>\n",
              "      <td>5.380000</td>\n",
              "      <td>0.550068</td>\n",
              "      <td>13.912756</td>\n",
              "      <td>00:36</td>\n",
              "    </tr>\n",
              "    <tr>\n",
              "      <td>8</td>\n",
              "      <td>0.152088</td>\n",
              "      <td>0.141321</td>\n",
              "      <td>0.307250</td>\n",
              "      <td>4.680000</td>\n",
              "      <td>0.518923</td>\n",
              "      <td>11.449315</td>\n",
              "      <td>00:35</td>\n",
              "    </tr>\n",
              "    <tr>\n",
              "      <td>9</td>\n",
              "      <td>0.142203</td>\n",
              "      <td>0.157283</td>\n",
              "      <td>0.284003</td>\n",
              "      <td>3.680000</td>\n",
              "      <td>0.604857</td>\n",
              "      <td>10.520421</td>\n",
              "      <td>00:35</td>\n",
              "    </tr>\n",
              "    <tr>\n",
              "      <td>10</td>\n",
              "      <td>0.148051</td>\n",
              "      <td>0.165772</td>\n",
              "      <td>0.311153</td>\n",
              "      <td>5.230000</td>\n",
              "      <td>0.539560</td>\n",
              "      <td>12.744743</td>\n",
              "      <td>00:35</td>\n",
              "    </tr>\n",
              "    <tr>\n",
              "      <td>11</td>\n",
              "      <td>0.133333</td>\n",
              "      <td>0.124533</td>\n",
              "      <td>0.427481</td>\n",
              "      <td>3.860000</td>\n",
              "      <td>0.659536</td>\n",
              "      <td>11.977373</td>\n",
              "      <td>00:35</td>\n",
              "    </tr>\n",
              "    <tr>\n",
              "      <td>12</td>\n",
              "      <td>0.122970</td>\n",
              "      <td>0.144547</td>\n",
              "      <td>0.432470</td>\n",
              "      <td>3.135000</td>\n",
              "      <td>0.636810</td>\n",
              "      <td>10.595212</td>\n",
              "      <td>00:35</td>\n",
              "    </tr>\n",
              "    <tr>\n",
              "      <td>13</td>\n",
              "      <td>0.122864</td>\n",
              "      <td>0.148511</td>\n",
              "      <td>0.458731</td>\n",
              "      <td>3.215000</td>\n",
              "      <td>0.704143</td>\n",
              "      <td>11.170442</td>\n",
              "      <td>00:35</td>\n",
              "    </tr>\n",
              "    <tr>\n",
              "      <td>14</td>\n",
              "      <td>0.111674</td>\n",
              "      <td>0.133744</td>\n",
              "      <td>0.434709</td>\n",
              "      <td>2.610000</td>\n",
              "      <td>0.743750</td>\n",
              "      <td>11.1327</td>\n",
              "      <td>00:35</td>\n",
              "    </tr>\n",
              "    <tr>\n",
              "      <td>15</td>\n",
              "      <td>0.100344</td>\n",
              "      <td>0.152287</td>\n",
              "      <td>0.453839</td>\n",
              "      <td>2.625000</td>\n",
              "      <td>0.722417</td>\n",
              "      <td>10.802961</td>\n",
              "      <td>00:34</td>\n",
              "    </tr>\n",
              "    <tr>\n",
              "      <td>16</td>\n",
              "      <td>0.092267</td>\n",
              "      <td>0.127173</td>\n",
              "      <td>0.455230</td>\n",
              "      <td>3.435000</td>\n",
              "      <td>0.677100</td>\n",
              "      <td>11.930555</td>\n",
              "      <td>00:34</td>\n",
              "    </tr>\n",
              "    <tr>\n",
              "      <td>17</td>\n",
              "      <td>0.086938</td>\n",
              "      <td>0.169979</td>\n",
              "      <td>0.433942</td>\n",
              "      <td>2.265000</td>\n",
              "      <td>0.736083</td>\n",
              "      <td>11.224265</td>\n",
              "      <td>00:34</td>\n",
              "    </tr>\n",
              "    <tr>\n",
              "      <td>18</td>\n",
              "      <td>0.080536</td>\n",
              "      <td>0.133518</td>\n",
              "      <td>0.431704</td>\n",
              "      <td>3.160000</td>\n",
              "      <td>0.721833</td>\n",
              "      <td>12.295515</td>\n",
              "      <td>00:34</td>\n",
              "    </tr>\n",
              "    <tr>\n",
              "      <td>19</td>\n",
              "      <td>0.072798</td>\n",
              "      <td>0.179985</td>\n",
              "      <td>0.421099</td>\n",
              "      <td>1.675000</td>\n",
              "      <td>0.838929</td>\n",
              "      <td>10.866802</td>\n",
              "      <td>00:34</td>\n",
              "    </tr>\n",
              "    <tr>\n",
              "      <td>20</td>\n",
              "      <td>0.069244</td>\n",
              "      <td>0.207864</td>\n",
              "      <td>0.412940</td>\n",
              "      <td>1.700000</td>\n",
              "      <td>0.825833</td>\n",
              "      <td>10.5418625</td>\n",
              "      <td>00:34</td>\n",
              "    </tr>\n",
              "    <tr>\n",
              "      <td>21</td>\n",
              "      <td>0.058669</td>\n",
              "      <td>0.290972</td>\n",
              "      <td>0.382584</td>\n",
              "      <td>1.555000</td>\n",
              "      <td>0.836667</td>\n",
              "      <td>10.870708</td>\n",
              "      <td>00:34</td>\n",
              "    </tr>\n",
              "    <tr>\n",
              "      <td>22</td>\n",
              "      <td>0.051058</td>\n",
              "      <td>0.335323</td>\n",
              "      <td>0.372301</td>\n",
              "      <td>1.350000</td>\n",
              "      <td>0.867500</td>\n",
              "      <td>10.814705</td>\n",
              "      <td>00:34</td>\n",
              "    </tr>\n",
              "    <tr>\n",
              "      <td>23</td>\n",
              "      <td>0.044396</td>\n",
              "      <td>0.426289</td>\n",
              "      <td>0.371427</td>\n",
              "      <td>1.265000</td>\n",
              "      <td>0.861667</td>\n",
              "      <td>10.735865</td>\n",
              "      <td>00:34</td>\n",
              "    </tr>\n",
              "    <tr>\n",
              "      <td>24</td>\n",
              "      <td>0.038910</td>\n",
              "      <td>0.424706</td>\n",
              "      <td>0.357442</td>\n",
              "      <td>1.220000</td>\n",
              "      <td>0.878333</td>\n",
              "      <td>10.708589</td>\n",
              "      <td>00:34</td>\n",
              "    </tr>\n",
              "    <tr>\n",
              "      <td>25</td>\n",
              "      <td>0.034499</td>\n",
              "      <td>0.516330</td>\n",
              "      <td>0.363725</td>\n",
              "      <td>1.175000</td>\n",
              "      <td>0.876667</td>\n",
              "      <td>10.822414</td>\n",
              "      <td>00:34</td>\n",
              "    </tr>\n",
              "    <tr>\n",
              "      <td>26</td>\n",
              "      <td>0.031094</td>\n",
              "      <td>0.546226</td>\n",
              "      <td>0.341471</td>\n",
              "      <td>1.140000</td>\n",
              "      <td>0.880000</td>\n",
              "      <td>10.804875</td>\n",
              "      <td>00:34</td>\n",
              "    </tr>\n",
              "    <tr>\n",
              "      <td>27</td>\n",
              "      <td>0.028980</td>\n",
              "      <td>0.552621</td>\n",
              "      <td>0.343819</td>\n",
              "      <td>1.140000</td>\n",
              "      <td>0.889167</td>\n",
              "      <td>10.800323</td>\n",
              "      <td>00:34</td>\n",
              "    </tr>\n",
              "    <tr>\n",
              "      <td>28</td>\n",
              "      <td>0.027265</td>\n",
              "      <td>0.559786</td>\n",
              "      <td>0.333859</td>\n",
              "      <td>1.115000</td>\n",
              "      <td>0.890000</td>\n",
              "      <td>10.832249</td>\n",
              "      <td>00:34</td>\n",
              "    </tr>\n",
              "    <tr>\n",
              "      <td>29</td>\n",
              "      <td>0.026363</td>\n",
              "      <td>0.562389</td>\n",
              "      <td>0.336963</td>\n",
              "      <td>1.115000</td>\n",
              "      <td>0.891667</td>\n",
              "      <td>10.829676</td>\n",
              "      <td>00:34</td>\n",
              "    </tr>\n",
              "  </tbody>\n",
              "</table>"
            ],
            "text/plain": [
              "<IPython.core.display.HTML object>"
            ]
          },
          "metadata": {
            "tags": []
          }
        }
      ]
    },
    {
      "cell_type": "markdown",
      "metadata": {
        "id": "SPcdP-IQfj-Y"
      },
      "source": [
        "Run inference on the validation set. Confirm accuracy with each of the relevant metrics."
      ]
    },
    {
      "cell_type": "code",
      "metadata": {
        "colab": {
          "base_uri": "https://localhost:8080/",
          "height": 49,
          "referenced_widgets": [
            "78ca64ba2022434d9efd83346ab73008",
            "5702c725af224bba87362cd87e104927",
            "b5e7c514a9cc453798b8850cd3c2ddce",
            "04b9349c57dd4aea86b12458f2ec0a82",
            "0ee2aac688d04a3783dc2df6ccbd4d5b",
            "efeac629a7e547ebb39a6343d8f3ac63",
            "14eda1d753ff43e8a75e4d32638fc933",
            "c943b8da6b0041439532d364ad3cd7bf",
            "af70998e41084a249bc49a3b7c1abb3e",
            "76e98bffd19d4cb08054a66ab2c91b8a",
            "b137500798d342318d54a252075b26f5"
          ]
        },
        "id": "nXV6Qf3Rd8vA",
        "outputId": "0787c666-5a70-44c2-a01c-9bdd225d3e9a"
      },
      "source": [
        "infer_dl = faster_rcnn.infer_dl(valid_ds, batch_size=16)\n",
        "samples, preds = faster_rcnn.predict_dl(model, infer_dl)"
      ],
      "execution_count": 92,
      "outputs": [
        {
          "output_type": "display_data",
          "data": {
            "application/vnd.jupyter.widget-view+json": {
              "model_id": "78ca64ba2022434d9efd83346ab73008",
              "version_minor": 0,
              "version_major": 2
            },
            "text/plain": [
              "  0%|          | 0/13 [00:00<?, ?it/s]"
            ]
          },
          "metadata": {
            "tags": []
          }
        }
      ]
    },
    {
      "cell_type": "code",
      "metadata": {
        "colab": {
          "base_uri": "https://localhost:8080/"
        },
        "id": "OLQ30dGyd8vE",
        "outputId": "9c2216b4-5d85-4690-e087-28d56f7055c6"
      },
      "source": [
        "center_results = [center_metric(sample, pred) for sample, pred in zip(samples,preds)]\n",
        "num_boxes_results = [num_bboxes(pred) for pred in preds]\n",
        "width_results = [width_metric(pred) for pred in preds]\n",
        "final_widths = []\n",
        "for i in width_results:\n",
        "    if i:\n",
        "      final_widths.append(i)\n",
        "    else:\n",
        "      pass\n",
        "np.mean(center_results), np.mean(num_boxes_results), np.mean(final_widths)"
      ],
      "execution_count": 93,
      "outputs": [
        {
          "output_type": "execute_result",
          "data": {
            "text/plain": [
              "(0.895, 1.02, 10.832966)"
            ]
          },
          "metadata": {
            "tags": []
          },
          "execution_count": 93
        }
      ]
    },
    {
      "cell_type": "markdown",
      "metadata": {
        "id": "qFJKxtvwfvMF"
      },
      "source": [
        "Pretty good! We're averaging 1 predicted bounding box per image, the variant is detected w/in the bounding boxes for ~90% of validation images, and the average bounding box has a width of ~11 pixels!\n",
        "\n",
        "I trained this exact same model 3 times to confirm, and the avg center proportion metric is 90.6%, num boxes ~1.02, and avg box width ~10.83 pixels. These results were consistent and had low variance across the three replicates, so I'm fairly confident you should get approximately the same accuracy in training."
      ]
    },
    {
      "cell_type": "code",
      "metadata": {
        "colab": {
          "base_uri": "https://localhost:8080/",
          "height": 1000
        },
        "id": "D8_i3Bkbe8ct",
        "outputId": "9d515c93-53c5-481e-8e88-916942288dd5"
      },
      "source": [
        "show_preds(samples[:6], preds[:6], class_map, display_label=False, display_mask=False)"
      ],
      "execution_count": 94,
      "outputs": [
        {
          "output_type": "display_data",
          "data": {
            "image/png": "[encoded data removed]",
            "text/plain": [
              "<Figure size 432x1728 with 12 Axes>"
            ]
          },
          "metadata": {
            "tags": [],
            "needs_background": "light"
          }
        }
      ]
    }
  ]
}